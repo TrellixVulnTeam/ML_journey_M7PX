{
 "cells": [
  {
   "cell_type": "code",
   "execution_count": 1,
   "metadata": {},
   "outputs": [],
   "source": [
    "import numpy as np\n",
    "import matplotlib.pyplot as plt"
   ]
  },
  {
   "cell_type": "markdown",
   "metadata": {},
   "source": [
    "### Question 1: Create a 4X2 integer array and Prints its attributes"
   ]
  },
  {
   "cell_type": "markdown",
   "metadata": {},
   "source": [
    "###### np.empty(shape, dtype=float, order='C')  \n",
    "    Return a new array of given shape and type, without initializing entries"
   ]
  },
  {
   "cell_type": "code",
   "execution_count": 6,
   "metadata": {},
   "outputs": [
    {
     "name": "stdout",
     "output_type": "stream",
     "text": [
      "Printing Array:  [[32696  1052]\n",
      " [    0     0]\n",
      " [    1     0]\n",
      " [ 8296 28257]]\n",
      "\n",
      "Printing NumPy array Attributes\n",
      "\n",
      "1> Array Shape is:  (4, 2)\n",
      "2>. Array dimensions are 2\n",
      "3>. Length of each element of array in bytes is:  2\n"
     ]
    }
   ],
   "source": [
    "arr = np.empty([4, 2], dtype=np.uint16)\n",
    "print(\"Printing Array: \", arr)\n",
    "print()\n",
    "print(\"Printing NumPy array Attributes\\n\")\n",
    "print(\"1> Array Shape is: \", arr.shape)\n",
    "print(\"2>. Array dimensions are\", arr.ndim)\n",
    "print(\"3>. Length of each element of array in bytes is: \", arr.itemsize)"
   ]
  },
  {
   "cell_type": "markdown",
   "metadata": {},
   "source": [
    "### Question 2: Create a 5X2 integer array from a range between 100 to 200 such that the difference between each element is 10"
   ]
  },
  {
   "cell_type": "code",
   "execution_count": 13,
   "metadata": {},
   "outputs": [
    {
     "name": "stdout",
     "output_type": "stream",
     "text": [
      "Creating 5X2 array using numpy.arange\n",
      "[[100 110]\n",
      " [120 130]\n",
      " [140 150]\n",
      " [160 170]\n",
      " [180 190]]\n"
     ]
    }
   ],
   "source": [
    "arr = np.arange(100, 200, 10).reshape(5, 2)\n",
    "print(\"Creating 5X2 array using numpy.arange\")\n",
    "print(arr)"
   ]
  },
  {
   "cell_type": "markdown",
   "metadata": {},
   "source": [
    "### Question 3: Following is the provided numPy array. return array of items in the third column from all rows"
   ]
  },
  {
   "cell_type": "code",
   "execution_count": 18,
   "metadata": {},
   "outputs": [
    {
     "name": "stdout",
     "output_type": "stream",
     "text": [
      "Printing Input Array\n",
      "[[11 22 33]\n",
      " [44 55 66]\n",
      " [77 88 99]]\n",
      "\n",
      "Printing array of items in the third column from all rows\n",
      "[22 55 88]\n"
     ]
    }
   ],
   "source": [
    "sampleArray = np.array([[11 ,22, 33], [44, 55, 66], [77, 88, 99]])\n",
    "print(\"Printing Input Array\")\n",
    "print(sampleArray)\n",
    "print(\"\\nPrinting array of items in the third column from all rows\")\n",
    "print(sampleArray[:, 1])"
   ]
  },
  {
   "cell_type": "markdown",
   "metadata": {},
   "source": [
    "### Question 4: Following is the given numpy array return array of odd rows and even columns"
   ]
  },
  {
   "cell_type": "code",
   "execution_count": 25,
   "metadata": {},
   "outputs": [
    {
     "name": "stdout",
     "output_type": "stream",
     "text": [
      "Printing input array:\n",
      "[[ 3  6  9 12]\n",
      " [15 18 21 24]\n",
      " [27 30 33 36]\n",
      " [39 42 45 48]\n",
      " [51 54 57 60]]\n",
      "\n",
      "Printing array of odd rows and even columns\n",
      "[[ 6 12]\n",
      " [30 36]\n",
      " [54 60]]\n"
     ]
    }
   ],
   "source": [
    "sampleArray = np.array([[3 ,6, 9, 12], [15 ,18, 21, 24], \n",
    "[27 ,30, 33, 36], [39 ,42, 45, 48], [51 ,54, 57, 60]])\n",
    "print(\"Printing input array:\")\n",
    "print(sampleArray)\n",
    "print(\"\\nPrinting array of odd rows and even columns\")\n",
    "print(sampleArray[0:sampleArray.shape[0]:2, 1:sampleArray.shape[1]:2])"
   ]
  },
  {
   "cell_type": "markdown",
   "metadata": {},
   "source": [
    "### Question 5: Add the following two NumPy arrays and Modify a result array by calculating the square of each element"
   ]
  },
  {
   "cell_type": "code",
   "execution_count": 30,
   "metadata": {},
   "outputs": [
    {
     "name": "stdout",
     "output_type": "stream",
     "text": [
      "Addition of 2 array is:\n",
      "[[20 39 33]\n",
      " [25 25 28]]\n",
      "\n",
      "Result array after calculating the square of all elements:\n",
      "[[ 400 1521 1089]\n",
      " [ 625  625  784]]\n"
     ]
    }
   ],
   "source": [
    "array1 = np.array([[5, 6, 9], [21, 18, 27]])\n",
    "array2 = np.array([[15, 33, 24], [4, 7, 1]])\n",
    "print(\"Addition of 2 array is:\")\n",
    "\n",
    "array3 = array1 + array2\n",
    "print(array3)\n",
    "\n",
    "print(\"\\nResult array after calculating the square of all elements:\")\n",
    "print(np.power(array3, 2))\n"
   ]
  },
  {
   "cell_type": "markdown",
   "metadata": {},
   "source": [
    "### Question 6: Split the array into four equal-sized sub-arrays"
   ]
  },
  {
   "cell_type": "code",
   "execution_count": 38,
   "metadata": {},
   "outputs": [
    {
     "name": "stdout",
     "output_type": "stream",
     "text": [
      "Creating 8X3 array using numpy.arange\n",
      "[[10 11 12]\n",
      " [13 14 15]\n",
      " [16 17 18]\n",
      " [19 20 21]\n",
      " [22 23 24]\n",
      " [25 26 27]\n",
      " [28 29 30]\n",
      " [31 32 33]]\n",
      "\n",
      "Dividing 8X3 array into 4 sub array\n",
      "[array([[10, 11, 12],\n",
      "       [13, 14, 15]]), array([[16, 17, 18],\n",
      "       [19, 20, 21]]), array([[22, 23, 24],\n",
      "       [25, 26, 27]]), array([[28, 29, 30],\n",
      "       [31, 32, 33]])]\n"
     ]
    }
   ],
   "source": [
    "array1 = np.arange(10, 34, 1).reshape(8, 3)\n",
    "newarray = np.array_split(array1, 4)\n",
    "print(\"Creating 8X3 array using numpy.arange\")\n",
    "print(array1)\n",
    "print(\"\\nDividing 8X3 array into 4 sub array\")\n",
    "print(newarray)"
   ]
  },
  {
   "cell_type": "markdown",
   "metadata": {},
   "source": [
    "### Question 7; Sort following NumPy array"
   ]
  },
  {
   "cell_type": "markdown",
   "metadata": {},
   "source": [
    "#### 7.1: Sort by second row"
   ]
  },
  {
   "cell_type": "code",
   "execution_count": 45,
   "metadata": {},
   "outputs": [
    {
     "name": "stdout",
     "output_type": "stream",
     "text": [
      "Original array: \n",
      "[[34 43 73]\n",
      " [82 22 12]\n",
      " [53 94 66]]\n",
      "\n",
      "Sorting Original array by second row\n",
      "[[73 43 34]\n",
      " [12 22 82]\n",
      " [66 94 53]]\n"
     ]
    }
   ],
   "source": [
    "sampleArray = np.array([[34,43,73],[82,22,12],[53,94,66]])\n",
    "print(\"Original array: \")\n",
    "print(sampleArray)\n",
    "\n",
    "print(\"\\nSorting Original array by second row\")\n",
    "newarray = sampleArray[:,sampleArray[1,:].argsort()]\n",
    "print(newarray)"
   ]
  },
  {
   "cell_type": "markdown",
   "metadata": {},
   "source": [
    "#### 7.2: Sort by second column"
   ]
  },
  {
   "cell_type": "code",
   "execution_count": 53,
   "metadata": {},
   "outputs": [
    {
     "name": "stdout",
     "output_type": "stream",
     "text": [
      "Original array:\n",
      "[[34 43 73]\n",
      " [82 22 12]\n",
      " [53 94 66]]\n",
      "\n",
      "Sorting Original array by secoond column\n",
      "[[82 22 12]\n",
      " [34 43 73]\n",
      " [53 94 66]]\n"
     ]
    }
   ],
   "source": [
    "sampleArray = np.array([[34,43,73],[82,22,12],[53,94,66]])\n",
    "print(\"Original array:\")\n",
    "print(sampleArray)\n",
    "\n",
    "print(\"\\nSorting Original array by secoond column\")\n",
    "newarray = sampleArray[sampleArray[:,1].argsort()]\n",
    "print(newarray)"
   ]
  },
  {
   "cell_type": "markdown",
   "metadata": {},
   "source": [
    "### Question 8: Following is the 2-D array. Print max from axis 0 and min from axis 1"
   ]
  },
  {
   "cell_type": "markdown",
   "metadata": {},
   "source": [
    "###### np.amin(a, axis=None)\n",
    "    Function to get the minimum value from a Numpy array\n",
    "    Argument:\n",
    "        a: numpy array from which it needs to find the minimum value\n",
    "        axis: It's optional, and if not provided then it will flattened the\n",
    "              passed numpy array and returns min value in it\n",
    "              + if axis=0: return array containing min value for each columns\n",
    "              + if axis=1: return array containing min value for each rows"
   ]
  },
  {
   "cell_type": "code",
   "execution_count": 56,
   "metadata": {},
   "outputs": [
    {
     "name": "stdout",
     "output_type": "stream",
     "text": [
      "Original array: \n",
      "[[34 43 73]\n",
      " [82 22 12]\n",
      " [53 94 66]]\n",
      "\n",
      "Printing amin of axis 1:\n",
      "[34 12 53]\n",
      "\n",
      "Printing amax of axis 0:\n",
      "[82 94 73]\n"
     ]
    }
   ],
   "source": [
    "sampleArray = np.array([[34,43,73],[82,22,12],[53,94,66]])\n",
    "print(\"Original array: \")\n",
    "print(sampleArray)\n",
    "\n",
    "print(\"\\nPrinting amin of axis 1:\")\n",
    "arrax1 = np.amin(sampleArray, axis=1)\n",
    "print(arrax1)\n",
    "\n",
    "print(\"\\nPrinting amax of axis 0:\")\n",
    "arrax0 = np.amax(sampleArray, axis=0)\n",
    "print(arrax0)"
   ]
  },
  {
   "cell_type": "markdown",
   "metadata": {},
   "source": [
    "### Question 9: Following is the input NumPy array delete column two and insert following new column in its place."
   ]
  },
  {
   "cell_type": "code",
   "execution_count": 61,
   "metadata": {},
   "outputs": [
    {
     "name": "stdout",
     "output_type": "stream",
     "text": [
      "Original array: \n",
      "[[34 43 73]\n",
      " [82 22 12]\n",
      " [53 94 66]]\n",
      "\n",
      "Array after deleting  column 2 on axis 1: \n",
      "[[34 73]\n",
      " [82 12]\n",
      " [53 66]]\n",
      "\n",
      "Array after inserting column 2 on axis 1: \n",
      "[[34 10 73]\n",
      " [82 10 12]\n",
      " [53 10 66]]\n"
     ]
    }
   ],
   "source": [
    "sampleArray = np.array([[34,43,73],[82,22,12],[53,94,66]])\n",
    "newColumn = np.array([[10,10,10]])\n",
    "\n",
    "print(\"Original array: \")\n",
    "print(sampleArray)\n",
    "\n",
    "print(\"\\nArray after deleting  column 2 on axis 1: \")\n",
    "a_del = np.delete(sampleArray, 1, 1)\n",
    "print(a_del)\n",
    "\n",
    "print(\"\\nArray after inserting column 2 on axis 1: \")\n",
    "a_insert = np.insert(a_del, 1, newColumn, axis=1)\n",
    "print(a_insert)"
   ]
  }
 ],
 "metadata": {
  "kernelspec": {
   "display_name": "Python 3",
   "language": "python",
   "name": "python3"
  },
  "language_info": {
   "codemirror_mode": {
    "name": "ipython",
    "version": 3
   },
   "file_extension": ".py",
   "mimetype": "text/x-python",
   "name": "python",
   "nbconvert_exporter": "python",
   "pygments_lexer": "ipython3",
   "version": "3.8.0"
  }
 },
 "nbformat": 4,
 "nbformat_minor": 4
}
