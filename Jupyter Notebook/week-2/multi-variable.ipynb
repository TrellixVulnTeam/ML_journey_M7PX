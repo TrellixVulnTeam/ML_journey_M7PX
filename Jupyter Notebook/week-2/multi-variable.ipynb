{
 "metadata": {
  "language_info": {
   "codemirror_mode": {
    "name": "ipython",
    "version": 3
   },
   "file_extension": ".py",
   "mimetype": "text/x-python",
   "name": "python",
   "nbconvert_exporter": "python",
   "pygments_lexer": "ipython3",
   "version": 3
  },
  "orig_nbformat": 2,
  "kernelspec": {
   "name": "python_defaultSpec_1596811118258",
   "display_name": "Python 3.8.0 32-bit ('tutorial-env': venv)"
  }
 },
 "nbformat": 4,
 "nbformat_minor": 2,
 "cells": [
  {
   "cell_type": "code",
   "execution_count": 1,
   "metadata": {},
   "outputs": [],
   "source": [
    "import matplotlib.pyplot as plt\n",
    "import pandas as pd\n",
    "import numpy as np"
   ]
  },
  {
   "cell_type": "code",
   "execution_count": 2,
   "metadata": {},
   "outputs": [
    {
     "output_type": "execute_result",
     "data": {
      "text/plain": "        x        y\n0  6.1101  17.5920\n1  5.5277   9.1302\n2  8.5186  13.6620\n3  7.0032  11.8540\n4  5.8598   6.8233",
      "text/html": "<div>\n<style scoped>\n    .dataframe tbody tr th:only-of-type {\n        vertical-align: middle;\n    }\n\n    .dataframe tbody tr th {\n        vertical-align: top;\n    }\n\n    .dataframe thead th {\n        text-align: right;\n    }\n</style>\n<table border=\"1\" class=\"dataframe\">\n  <thead>\n    <tr style=\"text-align: right;\">\n      <th></th>\n      <th>x</th>\n      <th>y</th>\n    </tr>\n  </thead>\n  <tbody>\n    <tr>\n      <th>0</th>\n      <td>6.1101</td>\n      <td>17.5920</td>\n    </tr>\n    <tr>\n      <th>1</th>\n      <td>5.5277</td>\n      <td>9.1302</td>\n    </tr>\n    <tr>\n      <th>2</th>\n      <td>8.5186</td>\n      <td>13.6620</td>\n    </tr>\n    <tr>\n      <th>3</th>\n      <td>7.0032</td>\n      <td>11.8540</td>\n    </tr>\n    <tr>\n      <th>4</th>\n      <td>5.8598</td>\n      <td>6.8233</td>\n    </tr>\n  </tbody>\n</table>\n</div>"
     },
     "metadata": {},
     "execution_count": 2
    }
   ],
   "source": [
    "data = pd.read_csv('ex1data1.txt')\n",
    "data.head()"
   ]
  },
  {
   "cell_type": "code",
   "execution_count": 3,
   "metadata": {},
   "outputs": [
    {
     "output_type": "execute_result",
     "data": {
      "text/plain": "   x0       x\n0   1  6.1101\n1   1  5.5277\n2   1  8.5186\n3   1  7.0032\n4   1  5.8598",
      "text/html": "<div>\n<style scoped>\n    .dataframe tbody tr th:only-of-type {\n        vertical-align: middle;\n    }\n\n    .dataframe tbody tr th {\n        vertical-align: top;\n    }\n\n    .dataframe thead th {\n        text-align: right;\n    }\n</style>\n<table border=\"1\" class=\"dataframe\">\n  <thead>\n    <tr style=\"text-align: right;\">\n      <th></th>\n      <th>x0</th>\n      <th>x</th>\n    </tr>\n  </thead>\n  <tbody>\n    <tr>\n      <th>0</th>\n      <td>1</td>\n      <td>6.1101</td>\n    </tr>\n    <tr>\n      <th>1</th>\n      <td>1</td>\n      <td>5.5277</td>\n    </tr>\n    <tr>\n      <th>2</th>\n      <td>1</td>\n      <td>8.5186</td>\n    </tr>\n    <tr>\n      <th>3</th>\n      <td>1</td>\n      <td>7.0032</td>\n    </tr>\n    <tr>\n      <th>4</th>\n      <td>1</td>\n      <td>5.8598</td>\n    </tr>\n  </tbody>\n</table>\n</div>"
     },
     "metadata": {},
     "execution_count": 3
    }
   ],
   "source": [
    "Xd = data.drop(columns=['y'])\n",
    "Xd.insert(0, 'x0', 1)\n",
    "Xd.head()"
   ]
  },
  {
   "cell_type": "code",
   "execution_count": 4,
   "metadata": {},
   "outputs": [
    {
     "output_type": "execute_result",
     "data": {
      "text/plain": "x0    1.0000\nx     6.1101\nName: 0, dtype: float64"
     },
     "metadata": {},
     "execution_count": 4
    }
   ],
   "source": [
    "Xd.iloc[0,:]"
   ]
  },
  {
   "cell_type": "code",
   "execution_count": 5,
   "metadata": {},
   "outputs": [],
   "source": [
    "# Numpy array format\n",
    "y = data.y.values\n",
    "X = Xd.values"
   ]
  },
  {
   "cell_type": "code",
   "execution_count": 6,
   "metadata": {},
   "outputs": [
    {
     "output_type": "execute_result",
     "data": {
      "text/plain": "97"
     },
     "metadata": {},
     "execution_count": 6
    }
   ],
   "source": [
    "# sample size\n",
    "m = len(data.index)\n",
    "m"
   ]
  },
  {
   "cell_type": "code",
   "execution_count": 7,
   "metadata": {},
   "outputs": [
    {
     "output_type": "execute_result",
     "data": {
      "text/plain": "2"
     },
     "metadata": {},
     "execution_count": 7
    }
   ],
   "source": [
    "# number of features\n",
    "n = X.shape[1]\n",
    "n"
   ]
  },
  {
   "cell_type": "code",
   "execution_count": 8,
   "metadata": {},
   "outputs": [
    {
     "output_type": "execute_result",
     "data": {
      "text/plain": "array([1., 1.])"
     },
     "metadata": {},
     "execution_count": 8
    }
   ],
   "source": [
    "theta = np.ones(n)\n",
    "theta"
   ]
  },
  {
   "cell_type": "code",
   "execution_count": 9,
   "metadata": {
    "tags": []
   },
   "outputs": [
    {
     "output_type": "stream",
     "name": "stdout",
     "text": "Wall time: 0 ns\n"
    }
   ],
   "source": [
    "%%time\n",
    "hypo = X @ theta"
   ]
  },
  {
   "cell_type": "code",
   "execution_count": 10,
   "metadata": {},
   "outputs": [
    {
     "output_type": "execute_result",
     "data": {
      "text/plain": "array([ 7.1101,  6.5277,  9.5186,  8.0032,  6.8598,  9.3829,  8.4764,\n        9.5781,  7.4862,  6.0546,  6.7107, 15.164 ,  6.734 ,  9.4084,\n        6.6407,  6.3794,  7.3654,  6.1301,  7.4296,  8.0708,  7.1891,\n       21.27  ,  6.4901,  7.3261,  6.5649, 19.945 , 13.828 , 11.957 ,\n       14.176 , 23.203 ,  6.2524,  7.5894, 10.2482,  6.8918,  9.2111,\n        8.9334,  9.0959,  6.6063, 13.836 ,  7.3534,  6.4069,  7.8825,\n       12.708 ,  6.7737,  8.8247,  8.0931,  6.0702,  6.8014, 12.7   ,\n        6.5416,  8.5402,  6.3077,  8.4239,  8.6031,  7.3328,  7.3589,\n        7.2742,  6.6397, 10.3102, 10.4536,  9.8254,  6.1793, 22.279 ,\n       15.908 , 19.959 ,  8.2182,  9.2951, 11.236 ,  6.4994, 21.341 ,\n       11.136 ,  8.3345,  7.0062,  8.2259,  6.0269,  7.5479,  8.5386,\n        6.0365, 11.274 ,  6.1077,  6.7292,  6.1884,  7.3557, 10.7687,\n        7.5159,  9.5172, 10.1802,  7.002 ,  6.5204,  6.0594,  6.7077,\n        8.6366,  6.8707,  6.3054,  9.2934, 14.394 ,  6.4369])"
     },
     "metadata": {},
     "execution_count": 10
    }
   ],
   "source": [
    "hypo"
   ]
  },
  {
   "cell_type": "code",
   "execution_count": 11,
   "metadata": {
    "tags": []
   },
   "outputs": [
    {
     "output_type": "stream",
     "name": "stdout",
     "text": "Wall time: 0 ns\n"
    }
   ],
   "source": [
    "%%time\n",
    "# cost function\n",
    "cost = (1/(2*m))*np.transpose((X@theta - y))@(X@theta - y)"
   ]
  },
  {
   "cell_type": "code",
   "execution_count": 12,
   "metadata": {},
   "outputs": [
    {
     "output_type": "execute_result",
     "data": {
      "text/plain": "10.266520491383504"
     },
     "metadata": {},
     "execution_count": 12
    }
   ],
   "source": [
    "cost"
   ]
  },
  {
   "cell_type": "code",
   "execution_count": 13,
   "metadata": {},
   "outputs": [],
   "source": [
    "def cost(theta, X=X, y=y, m=m):\n",
    "    cost = np.transpose((X@theta - y))@(X@theta - y)\n",
    "    cost = (1/(2*m))*cost\n",
    "    return cost"
   ]
  },
  {
   "cell_type": "code",
   "execution_count": 14,
   "metadata": {},
   "outputs": [
    {
     "output_type": "execute_result",
     "data": {
      "text/plain": "10.266520491383504"
     },
     "metadata": {},
     "execution_count": 14
    }
   ],
   "source": [
    "cost(theta)"
   ]
  },
  {
   "cell_type": "code",
   "execution_count": 15,
   "metadata": {
    "tags": []
   },
   "outputs": [
    {
     "output_type": "stream",
     "name": "stdout",
     "text": "Wall time: 0 ns\n"
    }
   ],
   "source": [
    "%%time\n",
    "dev = (1/m)*np.transpose(X)@(X@theta - y)"
   ]
  },
  {
   "cell_type": "code",
   "execution_count": 16,
   "metadata": {},
   "outputs": [
    {
     "output_type": "execute_result",
     "data": {
      "text/plain": "array([ 3.32066495, 24.23489308])"
     },
     "metadata": {},
     "execution_count": 16
    }
   ],
   "source": [
    "dev"
   ]
  },
  {
   "cell_type": "code",
   "execution_count": 17,
   "metadata": {},
   "outputs": [],
   "source": [
    "def cost_dev(thetar=theta, X=X, y=y, m=m):\n",
    "    dev = np.transpose(X) @ (X@thetar - y)\n",
    "    dev = (1/m)*dev\n",
    "    return np.array(dev)"
   ]
  },
  {
   "cell_type": "code",
   "execution_count": 18,
   "metadata": {},
   "outputs": [
    {
     "output_type": "execute_result",
     "data": {
      "text/plain": "array([ 3.32066495, 24.23489308])"
     },
     "metadata": {},
     "execution_count": 18
    }
   ],
   "source": [
    "cost_dev()"
   ]
  },
  {
   "cell_type": "code",
   "execution_count": 19,
   "metadata": {},
   "outputs": [
    {
     "output_type": "execute_result",
     "data": {
      "text/plain": "(97,)"
     },
     "metadata": {},
     "execution_count": 19
    }
   ],
   "source": [
    "(X@theta-y).shape"
   ]
  },
  {
   "cell_type": "code",
   "execution_count": 20,
   "metadata": {},
   "outputs": [
    {
     "output_type": "execute_result",
     "data": {
      "text/plain": "(97, 2)"
     },
     "metadata": {},
     "execution_count": 20
    }
   ],
   "source": [
    "X.shape"
   ]
  },
  {
   "cell_type": "code",
   "execution_count": 21,
   "metadata": {},
   "outputs": [],
   "source": [
    "# Learning rate\n",
    "a = 0.01"
   ]
  },
  {
   "cell_type": "code",
   "execution_count": 22,
   "metadata": {},
   "outputs": [
    {
     "output_type": "execute_result",
     "data": {
      "text/plain": "array([1., 1.])"
     },
     "metadata": {},
     "execution_count": 22
    }
   ],
   "source": [
    "theta = np.ones(n)\n",
    "theta"
   ]
  },
  {
   "cell_type": "code",
   "execution_count": 23,
   "metadata": {
    "tags": []
   },
   "outputs": [
    {
     "output_type": "stream",
     "name": "stdout",
     "text": "Wall time: 31.9 ms\n"
    }
   ],
   "source": [
    "%%time\n",
    "cost_list = []\n",
    "for i in range(1000):\n",
    "    theta = theta - a*(1/m)*np.transpose(X)@(X@theta - y)\n",
    "    cost_val = cost(theta)\n",
    "    cost_list.append(cost_val)"
   ]
  },
  {
   "cell_type": "code",
   "execution_count": 24,
   "metadata": {},
   "outputs": [
    {
     "output_type": "execute_result",
     "data": {
      "text/plain": "Text(0.5, 1.0, 'Vectorization: MSE Trend over Iterations')"
     },
     "metadata": {},
     "execution_count": 24
    },
    {
     "output_type": "display_data",
     "data": {
      "text/plain": "<Figure size 432x288 with 1 Axes>",
      "image/svg+xml": "<?xml version=\"1.0\" encoding=\"utf-8\" standalone=\"no\"?>\r\n<!DOCTYPE svg PUBLIC \"-//W3C//DTD SVG 1.1//EN\"\r\n  \"http://www.w3.org/Graphics/SVG/1.1/DTD/svg11.dtd\">\r\n<!-- Created with matplotlib (https://matplotlib.org/) -->\r\n<svg height=\"277.314375pt\" version=\"1.1\" viewBox=\"0 0 385.78125 277.314375\" width=\"385.78125pt\" xmlns=\"http://www.w3.org/2000/svg\" xmlns:xlink=\"http://www.w3.org/1999/xlink\">\r\n <metadata>\r\n  <rdf:RDF xmlns:cc=\"http://creativecommons.org/ns#\" xmlns:dc=\"http://purl.org/dc/elements/1.1/\" xmlns:rdf=\"http://www.w3.org/1999/02/22-rdf-syntax-ns#\">\r\n   <cc:Work>\r\n    <dc:type rdf:resource=\"http://purl.org/dc/dcmitype/StillImage\"/>\r\n    <dc:date>2020-08-07T21:53:35.433999</dc:date>\r\n    <dc:format>image/svg+xml</dc:format>\r\n    <dc:creator>\r\n     <cc:Agent>\r\n      <dc:title>Matplotlib v3.3.0, https://matplotlib.org/</dc:title>\r\n     </cc:Agent>\r\n    </dc:creator>\r\n   </cc:Work>\r\n  </rdf:RDF>\r\n </metadata>\r\n <defs>\r\n  <style type=\"text/css\">*{stroke-linecap:butt;stroke-linejoin:round;}</style>\r\n </defs>\r\n <g id=\"figure_1\">\r\n  <g id=\"patch_1\">\r\n   <path d=\"M 0 277.314375 \r\nL 385.78125 277.314375 \r\nL 385.78125 0 \r\nL 0 0 \r\nz\r\n\" style=\"fill:none;\"/>\r\n  </g>\r\n  <g id=\"axes_1\">\r\n   <g id=\"patch_2\">\r\n    <path d=\"M 43.78125 239.758125 \r\nL 378.58125 239.758125 \r\nL 378.58125 22.318125 \r\nL 43.78125 22.318125 \r\nz\r\n\" style=\"fill:#ffffff;\"/>\r\n   </g>\r\n   <g id=\"matplotlib.axis_1\">\r\n    <g id=\"xtick_1\">\r\n     <g id=\"line2d_1\">\r\n      <defs>\r\n       <path d=\"M 0 0 \r\nL 0 3.5 \r\n\" id=\"m21989a095b\" style=\"stroke:#000000;stroke-width:0.8;\"/>\r\n      </defs>\r\n      <g>\r\n       <use style=\"stroke:#000000;stroke-width:0.8;\" x=\"58.999432\" xlink:href=\"#m21989a095b\" y=\"239.758125\"/>\r\n      </g>\r\n     </g>\r\n     <g id=\"text_1\">\r\n      <!-- 0 -->\r\n      <g transform=\"translate(55.818182 254.356562)scale(0.1 -0.1)\">\r\n       <defs>\r\n        <path d=\"M 31.78125 66.40625 \r\nQ 24.171875 66.40625 20.328125 58.90625 \r\nQ 16.5 51.421875 16.5 36.375 \r\nQ 16.5 21.390625 20.328125 13.890625 \r\nQ 24.171875 6.390625 31.78125 6.390625 \r\nQ 39.453125 6.390625 43.28125 13.890625 \r\nQ 47.125 21.390625 47.125 36.375 \r\nQ 47.125 51.421875 43.28125 58.90625 \r\nQ 39.453125 66.40625 31.78125 66.40625 \r\nz\r\nM 31.78125 74.21875 \r\nQ 44.046875 74.21875 50.515625 64.515625 \r\nQ 56.984375 54.828125 56.984375 36.375 \r\nQ 56.984375 17.96875 50.515625 8.265625 \r\nQ 44.046875 -1.421875 31.78125 -1.421875 \r\nQ 19.53125 -1.421875 13.0625 8.265625 \r\nQ 6.59375 17.96875 6.59375 36.375 \r\nQ 6.59375 54.828125 13.0625 64.515625 \r\nQ 19.53125 74.21875 31.78125 74.21875 \r\nz\r\n\" id=\"DejaVuSans-48\"/>\r\n       </defs>\r\n       <use xlink:href=\"#DejaVuSans-48\"/>\r\n      </g>\r\n     </g>\r\n    </g>\r\n    <g id=\"xtick_2\">\r\n     <g id=\"line2d_2\">\r\n      <g>\r\n       <use style=\"stroke:#000000;stroke-width:0.8;\" x=\"119.933093\" xlink:href=\"#m21989a095b\" y=\"239.758125\"/>\r\n      </g>\r\n     </g>\r\n     <g id=\"text_2\">\r\n      <!-- 200 -->\r\n      <g transform=\"translate(110.389343 254.356562)scale(0.1 -0.1)\">\r\n       <defs>\r\n        <path d=\"M 19.1875 8.296875 \r\nL 53.609375 8.296875 \r\nL 53.609375 0 \r\nL 7.328125 0 \r\nL 7.328125 8.296875 \r\nQ 12.9375 14.109375 22.625 23.890625 \r\nQ 32.328125 33.6875 34.8125 36.53125 \r\nQ 39.546875 41.84375 41.421875 45.53125 \r\nQ 43.3125 49.21875 43.3125 52.78125 \r\nQ 43.3125 58.59375 39.234375 62.25 \r\nQ 35.15625 65.921875 28.609375 65.921875 \r\nQ 23.96875 65.921875 18.8125 64.3125 \r\nQ 13.671875 62.703125 7.8125 59.421875 \r\nL 7.8125 69.390625 \r\nQ 13.765625 71.78125 18.9375 73 \r\nQ 24.125 74.21875 28.421875 74.21875 \r\nQ 39.75 74.21875 46.484375 68.546875 \r\nQ 53.21875 62.890625 53.21875 53.421875 \r\nQ 53.21875 48.921875 51.53125 44.890625 \r\nQ 49.859375 40.875 45.40625 35.40625 \r\nQ 44.1875 33.984375 37.640625 27.21875 \r\nQ 31.109375 20.453125 19.1875 8.296875 \r\nz\r\n\" id=\"DejaVuSans-50\"/>\r\n       </defs>\r\n       <use xlink:href=\"#DejaVuSans-50\"/>\r\n       <use x=\"63.623047\" xlink:href=\"#DejaVuSans-48\"/>\r\n       <use x=\"127.246094\" xlink:href=\"#DejaVuSans-48\"/>\r\n      </g>\r\n     </g>\r\n    </g>\r\n    <g id=\"xtick_3\">\r\n     <g id=\"line2d_3\">\r\n      <g>\r\n       <use style=\"stroke:#000000;stroke-width:0.8;\" x=\"180.866754\" xlink:href=\"#m21989a095b\" y=\"239.758125\"/>\r\n      </g>\r\n     </g>\r\n     <g id=\"text_3\">\r\n      <!-- 400 -->\r\n      <g transform=\"translate(171.323004 254.356562)scale(0.1 -0.1)\">\r\n       <defs>\r\n        <path d=\"M 37.796875 64.3125 \r\nL 12.890625 25.390625 \r\nL 37.796875 25.390625 \r\nz\r\nM 35.203125 72.90625 \r\nL 47.609375 72.90625 \r\nL 47.609375 25.390625 \r\nL 58.015625 25.390625 \r\nL 58.015625 17.1875 \r\nL 47.609375 17.1875 \r\nL 47.609375 0 \r\nL 37.796875 0 \r\nL 37.796875 17.1875 \r\nL 4.890625 17.1875 \r\nL 4.890625 26.703125 \r\nz\r\n\" id=\"DejaVuSans-52\"/>\r\n       </defs>\r\n       <use xlink:href=\"#DejaVuSans-52\"/>\r\n       <use x=\"63.623047\" xlink:href=\"#DejaVuSans-48\"/>\r\n       <use x=\"127.246094\" xlink:href=\"#DejaVuSans-48\"/>\r\n      </g>\r\n     </g>\r\n    </g>\r\n    <g id=\"xtick_4\">\r\n     <g id=\"line2d_4\">\r\n      <g>\r\n       <use style=\"stroke:#000000;stroke-width:0.8;\" x=\"241.800415\" xlink:href=\"#m21989a095b\" y=\"239.758125\"/>\r\n      </g>\r\n     </g>\r\n     <g id=\"text_4\">\r\n      <!-- 600 -->\r\n      <g transform=\"translate(232.256665 254.356562)scale(0.1 -0.1)\">\r\n       <defs>\r\n        <path d=\"M 33.015625 40.375 \r\nQ 26.375 40.375 22.484375 35.828125 \r\nQ 18.609375 31.296875 18.609375 23.390625 \r\nQ 18.609375 15.53125 22.484375 10.953125 \r\nQ 26.375 6.390625 33.015625 6.390625 \r\nQ 39.65625 6.390625 43.53125 10.953125 \r\nQ 47.40625 15.53125 47.40625 23.390625 \r\nQ 47.40625 31.296875 43.53125 35.828125 \r\nQ 39.65625 40.375 33.015625 40.375 \r\nz\r\nM 52.59375 71.296875 \r\nL 52.59375 62.3125 \r\nQ 48.875 64.0625 45.09375 64.984375 \r\nQ 41.3125 65.921875 37.59375 65.921875 \r\nQ 27.828125 65.921875 22.671875 59.328125 \r\nQ 17.53125 52.734375 16.796875 39.40625 \r\nQ 19.671875 43.65625 24.015625 45.921875 \r\nQ 28.375 48.1875 33.59375 48.1875 \r\nQ 44.578125 48.1875 50.953125 41.515625 \r\nQ 57.328125 34.859375 57.328125 23.390625 \r\nQ 57.328125 12.15625 50.6875 5.359375 \r\nQ 44.046875 -1.421875 33.015625 -1.421875 \r\nQ 20.359375 -1.421875 13.671875 8.265625 \r\nQ 6.984375 17.96875 6.984375 36.375 \r\nQ 6.984375 53.65625 15.1875 63.9375 \r\nQ 23.390625 74.21875 37.203125 74.21875 \r\nQ 40.921875 74.21875 44.703125 73.484375 \r\nQ 48.484375 72.75 52.59375 71.296875 \r\nz\r\n\" id=\"DejaVuSans-54\"/>\r\n       </defs>\r\n       <use xlink:href=\"#DejaVuSans-54\"/>\r\n       <use x=\"63.623047\" xlink:href=\"#DejaVuSans-48\"/>\r\n       <use x=\"127.246094\" xlink:href=\"#DejaVuSans-48\"/>\r\n      </g>\r\n     </g>\r\n    </g>\r\n    <g id=\"xtick_5\">\r\n     <g id=\"line2d_5\">\r\n      <g>\r\n       <use style=\"stroke:#000000;stroke-width:0.8;\" x=\"302.734076\" xlink:href=\"#m21989a095b\" y=\"239.758125\"/>\r\n      </g>\r\n     </g>\r\n     <g id=\"text_5\">\r\n      <!-- 800 -->\r\n      <g transform=\"translate(293.190326 254.356562)scale(0.1 -0.1)\">\r\n       <defs>\r\n        <path d=\"M 31.78125 34.625 \r\nQ 24.75 34.625 20.71875 30.859375 \r\nQ 16.703125 27.09375 16.703125 20.515625 \r\nQ 16.703125 13.921875 20.71875 10.15625 \r\nQ 24.75 6.390625 31.78125 6.390625 \r\nQ 38.8125 6.390625 42.859375 10.171875 \r\nQ 46.921875 13.96875 46.921875 20.515625 \r\nQ 46.921875 27.09375 42.890625 30.859375 \r\nQ 38.875 34.625 31.78125 34.625 \r\nz\r\nM 21.921875 38.8125 \r\nQ 15.578125 40.375 12.03125 44.71875 \r\nQ 8.5 49.078125 8.5 55.328125 \r\nQ 8.5 64.0625 14.71875 69.140625 \r\nQ 20.953125 74.21875 31.78125 74.21875 \r\nQ 42.671875 74.21875 48.875 69.140625 \r\nQ 55.078125 64.0625 55.078125 55.328125 \r\nQ 55.078125 49.078125 51.53125 44.71875 \r\nQ 48 40.375 41.703125 38.8125 \r\nQ 48.828125 37.15625 52.796875 32.3125 \r\nQ 56.78125 27.484375 56.78125 20.515625 \r\nQ 56.78125 9.90625 50.3125 4.234375 \r\nQ 43.84375 -1.421875 31.78125 -1.421875 \r\nQ 19.734375 -1.421875 13.25 4.234375 \r\nQ 6.78125 9.90625 6.78125 20.515625 \r\nQ 6.78125 27.484375 10.78125 32.3125 \r\nQ 14.796875 37.15625 21.921875 38.8125 \r\nz\r\nM 18.3125 54.390625 \r\nQ 18.3125 48.734375 21.84375 45.5625 \r\nQ 25.390625 42.390625 31.78125 42.390625 \r\nQ 38.140625 42.390625 41.71875 45.5625 \r\nQ 45.3125 48.734375 45.3125 54.390625 \r\nQ 45.3125 60.0625 41.71875 63.234375 \r\nQ 38.140625 66.40625 31.78125 66.40625 \r\nQ 25.390625 66.40625 21.84375 63.234375 \r\nQ 18.3125 60.0625 18.3125 54.390625 \r\nz\r\n\" id=\"DejaVuSans-56\"/>\r\n       </defs>\r\n       <use xlink:href=\"#DejaVuSans-56\"/>\r\n       <use x=\"63.623047\" xlink:href=\"#DejaVuSans-48\"/>\r\n       <use x=\"127.246094\" xlink:href=\"#DejaVuSans-48\"/>\r\n      </g>\r\n     </g>\r\n    </g>\r\n    <g id=\"xtick_6\">\r\n     <g id=\"line2d_6\">\r\n      <g>\r\n       <use style=\"stroke:#000000;stroke-width:0.8;\" x=\"363.667736\" xlink:href=\"#m21989a095b\" y=\"239.758125\"/>\r\n      </g>\r\n     </g>\r\n     <g id=\"text_6\">\r\n      <!-- 1000 -->\r\n      <g transform=\"translate(350.942736 254.356562)scale(0.1 -0.1)\">\r\n       <defs>\r\n        <path d=\"M 12.40625 8.296875 \r\nL 28.515625 8.296875 \r\nL 28.515625 63.921875 \r\nL 10.984375 60.40625 \r\nL 10.984375 69.390625 \r\nL 28.421875 72.90625 \r\nL 38.28125 72.90625 \r\nL 38.28125 8.296875 \r\nL 54.390625 8.296875 \r\nL 54.390625 0 \r\nL 12.40625 0 \r\nz\r\n\" id=\"DejaVuSans-49\"/>\r\n       </defs>\r\n       <use xlink:href=\"#DejaVuSans-49\"/>\r\n       <use x=\"63.623047\" xlink:href=\"#DejaVuSans-48\"/>\r\n       <use x=\"127.246094\" xlink:href=\"#DejaVuSans-48\"/>\r\n       <use x=\"190.869141\" xlink:href=\"#DejaVuSans-48\"/>\r\n      </g>\r\n     </g>\r\n    </g>\r\n    <g id=\"text_7\">\r\n     <!-- Iteration -->\r\n     <g transform=\"translate(189.972656 268.034687)scale(0.1 -0.1)\">\r\n      <defs>\r\n       <path d=\"M 9.8125 72.90625 \r\nL 19.671875 72.90625 \r\nL 19.671875 0 \r\nL 9.8125 0 \r\nz\r\n\" id=\"DejaVuSans-73\"/>\r\n       <path d=\"M 18.3125 70.21875 \r\nL 18.3125 54.6875 \r\nL 36.8125 54.6875 \r\nL 36.8125 47.703125 \r\nL 18.3125 47.703125 \r\nL 18.3125 18.015625 \r\nQ 18.3125 11.328125 20.140625 9.421875 \r\nQ 21.96875 7.515625 27.59375 7.515625 \r\nL 36.8125 7.515625 \r\nL 36.8125 0 \r\nL 27.59375 0 \r\nQ 17.1875 0 13.234375 3.875 \r\nQ 9.28125 7.765625 9.28125 18.015625 \r\nL 9.28125 47.703125 \r\nL 2.6875 47.703125 \r\nL 2.6875 54.6875 \r\nL 9.28125 54.6875 \r\nL 9.28125 70.21875 \r\nz\r\n\" id=\"DejaVuSans-116\"/>\r\n       <path d=\"M 56.203125 29.59375 \r\nL 56.203125 25.203125 \r\nL 14.890625 25.203125 \r\nQ 15.484375 15.921875 20.484375 11.0625 \r\nQ 25.484375 6.203125 34.421875 6.203125 \r\nQ 39.59375 6.203125 44.453125 7.46875 \r\nQ 49.3125 8.734375 54.109375 11.28125 \r\nL 54.109375 2.78125 \r\nQ 49.265625 0.734375 44.1875 -0.34375 \r\nQ 39.109375 -1.421875 33.890625 -1.421875 \r\nQ 20.796875 -1.421875 13.15625 6.1875 \r\nQ 5.515625 13.8125 5.515625 26.8125 \r\nQ 5.515625 40.234375 12.765625 48.109375 \r\nQ 20.015625 56 32.328125 56 \r\nQ 43.359375 56 49.78125 48.890625 \r\nQ 56.203125 41.796875 56.203125 29.59375 \r\nz\r\nM 47.21875 32.234375 \r\nQ 47.125 39.59375 43.09375 43.984375 \r\nQ 39.0625 48.390625 32.421875 48.390625 \r\nQ 24.90625 48.390625 20.390625 44.140625 \r\nQ 15.875 39.890625 15.1875 32.171875 \r\nz\r\n\" id=\"DejaVuSans-101\"/>\r\n       <path d=\"M 41.109375 46.296875 \r\nQ 39.59375 47.171875 37.8125 47.578125 \r\nQ 36.03125 48 33.890625 48 \r\nQ 26.265625 48 22.1875 43.046875 \r\nQ 18.109375 38.09375 18.109375 28.8125 \r\nL 18.109375 0 \r\nL 9.078125 0 \r\nL 9.078125 54.6875 \r\nL 18.109375 54.6875 \r\nL 18.109375 46.1875 \r\nQ 20.953125 51.171875 25.484375 53.578125 \r\nQ 30.03125 56 36.53125 56 \r\nQ 37.453125 56 38.578125 55.875 \r\nQ 39.703125 55.765625 41.0625 55.515625 \r\nz\r\n\" id=\"DejaVuSans-114\"/>\r\n       <path d=\"M 34.28125 27.484375 \r\nQ 23.390625 27.484375 19.1875 25 \r\nQ 14.984375 22.515625 14.984375 16.5 \r\nQ 14.984375 11.71875 18.140625 8.90625 \r\nQ 21.296875 6.109375 26.703125 6.109375 \r\nQ 34.1875 6.109375 38.703125 11.40625 \r\nQ 43.21875 16.703125 43.21875 25.484375 \r\nL 43.21875 27.484375 \r\nz\r\nM 52.203125 31.203125 \r\nL 52.203125 0 \r\nL 43.21875 0 \r\nL 43.21875 8.296875 \r\nQ 40.140625 3.328125 35.546875 0.953125 \r\nQ 30.953125 -1.421875 24.3125 -1.421875 \r\nQ 15.921875 -1.421875 10.953125 3.296875 \r\nQ 6 8.015625 6 15.921875 \r\nQ 6 25.140625 12.171875 29.828125 \r\nQ 18.359375 34.515625 30.609375 34.515625 \r\nL 43.21875 34.515625 \r\nL 43.21875 35.40625 \r\nQ 43.21875 41.609375 39.140625 45 \r\nQ 35.0625 48.390625 27.6875 48.390625 \r\nQ 23 48.390625 18.546875 47.265625 \r\nQ 14.109375 46.140625 10.015625 43.890625 \r\nL 10.015625 52.203125 \r\nQ 14.9375 54.109375 19.578125 55.046875 \r\nQ 24.21875 56 28.609375 56 \r\nQ 40.484375 56 46.34375 49.84375 \r\nQ 52.203125 43.703125 52.203125 31.203125 \r\nz\r\n\" id=\"DejaVuSans-97\"/>\r\n       <path d=\"M 9.421875 54.6875 \r\nL 18.40625 54.6875 \r\nL 18.40625 0 \r\nL 9.421875 0 \r\nz\r\nM 9.421875 75.984375 \r\nL 18.40625 75.984375 \r\nL 18.40625 64.59375 \r\nL 9.421875 64.59375 \r\nz\r\n\" id=\"DejaVuSans-105\"/>\r\n       <path d=\"M 30.609375 48.390625 \r\nQ 23.390625 48.390625 19.1875 42.75 \r\nQ 14.984375 37.109375 14.984375 27.296875 \r\nQ 14.984375 17.484375 19.15625 11.84375 \r\nQ 23.34375 6.203125 30.609375 6.203125 \r\nQ 37.796875 6.203125 41.984375 11.859375 \r\nQ 46.1875 17.53125 46.1875 27.296875 \r\nQ 46.1875 37.015625 41.984375 42.703125 \r\nQ 37.796875 48.390625 30.609375 48.390625 \r\nz\r\nM 30.609375 56 \r\nQ 42.328125 56 49.015625 48.375 \r\nQ 55.71875 40.765625 55.71875 27.296875 \r\nQ 55.71875 13.875 49.015625 6.21875 \r\nQ 42.328125 -1.421875 30.609375 -1.421875 \r\nQ 18.84375 -1.421875 12.171875 6.21875 \r\nQ 5.515625 13.875 5.515625 27.296875 \r\nQ 5.515625 40.765625 12.171875 48.375 \r\nQ 18.84375 56 30.609375 56 \r\nz\r\n\" id=\"DejaVuSans-111\"/>\r\n       <path d=\"M 54.890625 33.015625 \r\nL 54.890625 0 \r\nL 45.90625 0 \r\nL 45.90625 32.71875 \r\nQ 45.90625 40.484375 42.875 44.328125 \r\nQ 39.84375 48.1875 33.796875 48.1875 \r\nQ 26.515625 48.1875 22.3125 43.546875 \r\nQ 18.109375 38.921875 18.109375 30.90625 \r\nL 18.109375 0 \r\nL 9.078125 0 \r\nL 9.078125 54.6875 \r\nL 18.109375 54.6875 \r\nL 18.109375 46.1875 \r\nQ 21.34375 51.125 25.703125 53.5625 \r\nQ 30.078125 56 35.796875 56 \r\nQ 45.21875 56 50.046875 50.171875 \r\nQ 54.890625 44.34375 54.890625 33.015625 \r\nz\r\n\" id=\"DejaVuSans-110\"/>\r\n      </defs>\r\n      <use xlink:href=\"#DejaVuSans-73\"/>\r\n      <use x=\"29.492188\" xlink:href=\"#DejaVuSans-116\"/>\r\n      <use x=\"68.701172\" xlink:href=\"#DejaVuSans-101\"/>\r\n      <use x=\"130.224609\" xlink:href=\"#DejaVuSans-114\"/>\r\n      <use x=\"171.337891\" xlink:href=\"#DejaVuSans-97\"/>\r\n      <use x=\"232.617188\" xlink:href=\"#DejaVuSans-116\"/>\r\n      <use x=\"271.826172\" xlink:href=\"#DejaVuSans-105\"/>\r\n      <use x=\"299.609375\" xlink:href=\"#DejaVuSans-111\"/>\r\n      <use x=\"360.791016\" xlink:href=\"#DejaVuSans-110\"/>\r\n     </g>\r\n    </g>\r\n   </g>\r\n   <g id=\"matplotlib.axis_2\">\r\n    <g id=\"ytick_1\">\r\n     <g id=\"line2d_7\">\r\n      <defs>\r\n       <path d=\"M 0 0 \r\nL -3.5 0 \r\n\" id=\"mf20e70798d\" style=\"stroke:#000000;stroke-width:0.8;\"/>\r\n      </defs>\r\n      <g>\r\n       <use style=\"stroke:#000000;stroke-width:0.8;\" x=\"43.78125\" xlink:href=\"#mf20e70798d\" y=\"233.046926\"/>\r\n      </g>\r\n     </g>\r\n     <g id=\"text_8\">\r\n      <!-- 4.5 -->\r\n      <g transform=\"translate(20.878125 236.846145)scale(0.1 -0.1)\">\r\n       <defs>\r\n        <path d=\"M 10.6875 12.40625 \r\nL 21 12.40625 \r\nL 21 0 \r\nL 10.6875 0 \r\nz\r\n\" id=\"DejaVuSans-46\"/>\r\n        <path d=\"M 10.796875 72.90625 \r\nL 49.515625 72.90625 \r\nL 49.515625 64.59375 \r\nL 19.828125 64.59375 \r\nL 19.828125 46.734375 \r\nQ 21.96875 47.46875 24.109375 47.828125 \r\nQ 26.265625 48.1875 28.421875 48.1875 \r\nQ 40.625 48.1875 47.75 41.5 \r\nQ 54.890625 34.8125 54.890625 23.390625 \r\nQ 54.890625 11.625 47.5625 5.09375 \r\nQ 40.234375 -1.421875 26.90625 -1.421875 \r\nQ 22.3125 -1.421875 17.546875 -0.640625 \r\nQ 12.796875 0.140625 7.71875 1.703125 \r\nL 7.71875 11.625 \r\nQ 12.109375 9.234375 16.796875 8.0625 \r\nQ 21.484375 6.890625 26.703125 6.890625 \r\nQ 35.15625 6.890625 40.078125 11.328125 \r\nQ 45.015625 15.765625 45.015625 23.390625 \r\nQ 45.015625 31 40.078125 35.4375 \r\nQ 35.15625 39.890625 26.703125 39.890625 \r\nQ 22.75 39.890625 18.8125 39.015625 \r\nQ 14.890625 38.140625 10.796875 36.28125 \r\nz\r\n\" id=\"DejaVuSans-53\"/>\r\n       </defs>\r\n       <use xlink:href=\"#DejaVuSans-52\"/>\r\n       <use x=\"63.623047\" xlink:href=\"#DejaVuSans-46\"/>\r\n       <use x=\"95.410156\" xlink:href=\"#DejaVuSans-53\"/>\r\n      </g>\r\n     </g>\r\n    </g>\r\n    <g id=\"ytick_2\">\r\n     <g id=\"line2d_8\">\r\n      <g>\r\n       <use style=\"stroke:#000000;stroke-width:0.8;\" x=\"43.78125\" xlink:href=\"#mf20e70798d\" y=\"188.209793\"/>\r\n      </g>\r\n     </g>\r\n     <g id=\"text_9\">\r\n      <!-- 5.0 -->\r\n      <g transform=\"translate(20.878125 192.009012)scale(0.1 -0.1)\">\r\n       <use xlink:href=\"#DejaVuSans-53\"/>\r\n       <use x=\"63.623047\" xlink:href=\"#DejaVuSans-46\"/>\r\n       <use x=\"95.410156\" xlink:href=\"#DejaVuSans-48\"/>\r\n      </g>\r\n     </g>\r\n    </g>\r\n    <g id=\"ytick_3\">\r\n     <g id=\"line2d_9\">\r\n      <g>\r\n       <use style=\"stroke:#000000;stroke-width:0.8;\" x=\"43.78125\" xlink:href=\"#mf20e70798d\" y=\"143.37266\"/>\r\n      </g>\r\n     </g>\r\n     <g id=\"text_10\">\r\n      <!-- 5.5 -->\r\n      <g transform=\"translate(20.878125 147.171879)scale(0.1 -0.1)\">\r\n       <use xlink:href=\"#DejaVuSans-53\"/>\r\n       <use x=\"63.623047\" xlink:href=\"#DejaVuSans-46\"/>\r\n       <use x=\"95.410156\" xlink:href=\"#DejaVuSans-53\"/>\r\n      </g>\r\n     </g>\r\n    </g>\r\n    <g id=\"ytick_4\">\r\n     <g id=\"line2d_10\">\r\n      <g>\r\n       <use style=\"stroke:#000000;stroke-width:0.8;\" x=\"43.78125\" xlink:href=\"#mf20e70798d\" y=\"98.535527\"/>\r\n      </g>\r\n     </g>\r\n     <g id=\"text_11\">\r\n      <!-- 6.0 -->\r\n      <g transform=\"translate(20.878125 102.334746)scale(0.1 -0.1)\">\r\n       <use xlink:href=\"#DejaVuSans-54\"/>\r\n       <use x=\"63.623047\" xlink:href=\"#DejaVuSans-46\"/>\r\n       <use x=\"95.410156\" xlink:href=\"#DejaVuSans-48\"/>\r\n      </g>\r\n     </g>\r\n    </g>\r\n    <g id=\"ytick_5\">\r\n     <g id=\"line2d_11\">\r\n      <g>\r\n       <use style=\"stroke:#000000;stroke-width:0.8;\" x=\"43.78125\" xlink:href=\"#mf20e70798d\" y=\"53.698394\"/>\r\n      </g>\r\n     </g>\r\n     <g id=\"text_12\">\r\n      <!-- 6.5 -->\r\n      <g transform=\"translate(20.878125 57.497613)scale(0.1 -0.1)\">\r\n       <use xlink:href=\"#DejaVuSans-54\"/>\r\n       <use x=\"63.623047\" xlink:href=\"#DejaVuSans-46\"/>\r\n       <use x=\"95.410156\" xlink:href=\"#DejaVuSans-53\"/>\r\n      </g>\r\n     </g>\r\n    </g>\r\n    <g id=\"text_13\">\r\n     <!-- Cost Function(MSE) -->\r\n     <g transform=\"translate(14.798438 179.556875)rotate(-90)scale(0.1 -0.1)\">\r\n      <defs>\r\n       <path d=\"M 64.40625 67.28125 \r\nL 64.40625 56.890625 \r\nQ 59.421875 61.53125 53.78125 63.8125 \r\nQ 48.140625 66.109375 41.796875 66.109375 \r\nQ 29.296875 66.109375 22.65625 58.46875 \r\nQ 16.015625 50.828125 16.015625 36.375 \r\nQ 16.015625 21.96875 22.65625 14.328125 \r\nQ 29.296875 6.6875 41.796875 6.6875 \r\nQ 48.140625 6.6875 53.78125 8.984375 \r\nQ 59.421875 11.28125 64.40625 15.921875 \r\nL 64.40625 5.609375 \r\nQ 59.234375 2.09375 53.4375 0.328125 \r\nQ 47.65625 -1.421875 41.21875 -1.421875 \r\nQ 24.65625 -1.421875 15.125 8.703125 \r\nQ 5.609375 18.84375 5.609375 36.375 \r\nQ 5.609375 53.953125 15.125 64.078125 \r\nQ 24.65625 74.21875 41.21875 74.21875 \r\nQ 47.75 74.21875 53.53125 72.484375 \r\nQ 59.328125 70.75 64.40625 67.28125 \r\nz\r\n\" id=\"DejaVuSans-67\"/>\r\n       <path d=\"M 44.28125 53.078125 \r\nL 44.28125 44.578125 \r\nQ 40.484375 46.53125 36.375 47.5 \r\nQ 32.28125 48.484375 27.875 48.484375 \r\nQ 21.1875 48.484375 17.84375 46.4375 \r\nQ 14.5 44.390625 14.5 40.28125 \r\nQ 14.5 37.15625 16.890625 35.375 \r\nQ 19.28125 33.59375 26.515625 31.984375 \r\nL 29.59375 31.296875 \r\nQ 39.15625 29.25 43.1875 25.515625 \r\nQ 47.21875 21.78125 47.21875 15.09375 \r\nQ 47.21875 7.46875 41.1875 3.015625 \r\nQ 35.15625 -1.421875 24.609375 -1.421875 \r\nQ 20.21875 -1.421875 15.453125 -0.5625 \r\nQ 10.6875 0.296875 5.421875 2 \r\nL 5.421875 11.28125 \r\nQ 10.40625 8.6875 15.234375 7.390625 \r\nQ 20.0625 6.109375 24.8125 6.109375 \r\nQ 31.15625 6.109375 34.5625 8.28125 \r\nQ 37.984375 10.453125 37.984375 14.40625 \r\nQ 37.984375 18.0625 35.515625 20.015625 \r\nQ 33.0625 21.96875 24.703125 23.78125 \r\nL 21.578125 24.515625 \r\nQ 13.234375 26.265625 9.515625 29.90625 \r\nQ 5.8125 33.546875 5.8125 39.890625 \r\nQ 5.8125 47.609375 11.28125 51.796875 \r\nQ 16.75 56 26.8125 56 \r\nQ 31.78125 56 36.171875 55.265625 \r\nQ 40.578125 54.546875 44.28125 53.078125 \r\nz\r\n\" id=\"DejaVuSans-115\"/>\r\n       <path id=\"DejaVuSans-32\"/>\r\n       <path d=\"M 9.8125 72.90625 \r\nL 51.703125 72.90625 \r\nL 51.703125 64.59375 \r\nL 19.671875 64.59375 \r\nL 19.671875 43.109375 \r\nL 48.578125 43.109375 \r\nL 48.578125 34.8125 \r\nL 19.671875 34.8125 \r\nL 19.671875 0 \r\nL 9.8125 0 \r\nz\r\n\" id=\"DejaVuSans-70\"/>\r\n       <path d=\"M 8.5 21.578125 \r\nL 8.5 54.6875 \r\nL 17.484375 54.6875 \r\nL 17.484375 21.921875 \r\nQ 17.484375 14.15625 20.5 10.265625 \r\nQ 23.53125 6.390625 29.59375 6.390625 \r\nQ 36.859375 6.390625 41.078125 11.03125 \r\nQ 45.3125 15.671875 45.3125 23.6875 \r\nL 45.3125 54.6875 \r\nL 54.296875 54.6875 \r\nL 54.296875 0 \r\nL 45.3125 0 \r\nL 45.3125 8.40625 \r\nQ 42.046875 3.421875 37.71875 1 \r\nQ 33.40625 -1.421875 27.6875 -1.421875 \r\nQ 18.265625 -1.421875 13.375 4.4375 \r\nQ 8.5 10.296875 8.5 21.578125 \r\nz\r\nM 31.109375 56 \r\nz\r\n\" id=\"DejaVuSans-117\"/>\r\n       <path d=\"M 48.78125 52.59375 \r\nL 48.78125 44.1875 \r\nQ 44.96875 46.296875 41.140625 47.34375 \r\nQ 37.3125 48.390625 33.40625 48.390625 \r\nQ 24.65625 48.390625 19.8125 42.84375 \r\nQ 14.984375 37.3125 14.984375 27.296875 \r\nQ 14.984375 17.28125 19.8125 11.734375 \r\nQ 24.65625 6.203125 33.40625 6.203125 \r\nQ 37.3125 6.203125 41.140625 7.25 \r\nQ 44.96875 8.296875 48.78125 10.40625 \r\nL 48.78125 2.09375 \r\nQ 45.015625 0.34375 40.984375 -0.53125 \r\nQ 36.96875 -1.421875 32.421875 -1.421875 \r\nQ 20.0625 -1.421875 12.78125 6.34375 \r\nQ 5.515625 14.109375 5.515625 27.296875 \r\nQ 5.515625 40.671875 12.859375 48.328125 \r\nQ 20.21875 56 33.015625 56 \r\nQ 37.15625 56 41.109375 55.140625 \r\nQ 45.0625 54.296875 48.78125 52.59375 \r\nz\r\n\" id=\"DejaVuSans-99\"/>\r\n       <path d=\"M 31 75.875 \r\nQ 24.46875 64.65625 21.28125 53.65625 \r\nQ 18.109375 42.671875 18.109375 31.390625 \r\nQ 18.109375 20.125 21.3125 9.0625 \r\nQ 24.515625 -2 31 -13.1875 \r\nL 23.1875 -13.1875 \r\nQ 15.875 -1.703125 12.234375 9.375 \r\nQ 8.59375 20.453125 8.59375 31.390625 \r\nQ 8.59375 42.28125 12.203125 53.3125 \r\nQ 15.828125 64.359375 23.1875 75.875 \r\nz\r\n\" id=\"DejaVuSans-40\"/>\r\n       <path d=\"M 9.8125 72.90625 \r\nL 24.515625 72.90625 \r\nL 43.109375 23.296875 \r\nL 61.8125 72.90625 \r\nL 76.515625 72.90625 \r\nL 76.515625 0 \r\nL 66.890625 0 \r\nL 66.890625 64.015625 \r\nL 48.09375 14.015625 \r\nL 38.1875 14.015625 \r\nL 19.390625 64.015625 \r\nL 19.390625 0 \r\nL 9.8125 0 \r\nz\r\n\" id=\"DejaVuSans-77\"/>\r\n       <path d=\"M 53.515625 70.515625 \r\nL 53.515625 60.890625 \r\nQ 47.90625 63.578125 42.921875 64.890625 \r\nQ 37.9375 66.21875 33.296875 66.21875 \r\nQ 25.25 66.21875 20.875 63.09375 \r\nQ 16.5 59.96875 16.5 54.203125 \r\nQ 16.5 49.359375 19.40625 46.890625 \r\nQ 22.3125 44.4375 30.421875 42.921875 \r\nL 36.375 41.703125 \r\nQ 47.40625 39.59375 52.65625 34.296875 \r\nQ 57.90625 29 57.90625 20.125 \r\nQ 57.90625 9.515625 50.796875 4.046875 \r\nQ 43.703125 -1.421875 29.984375 -1.421875 \r\nQ 24.8125 -1.421875 18.96875 -0.25 \r\nQ 13.140625 0.921875 6.890625 3.21875 \r\nL 6.890625 13.375 \r\nQ 12.890625 10.015625 18.65625 8.296875 \r\nQ 24.421875 6.59375 29.984375 6.59375 \r\nQ 38.421875 6.59375 43.015625 9.90625 \r\nQ 47.609375 13.234375 47.609375 19.390625 \r\nQ 47.609375 24.75 44.3125 27.78125 \r\nQ 41.015625 30.8125 33.5 32.328125 \r\nL 27.484375 33.5 \r\nQ 16.453125 35.6875 11.515625 40.375 \r\nQ 6.59375 45.0625 6.59375 53.421875 \r\nQ 6.59375 63.09375 13.40625 68.65625 \r\nQ 20.21875 74.21875 32.171875 74.21875 \r\nQ 37.3125 74.21875 42.625 73.28125 \r\nQ 47.953125 72.359375 53.515625 70.515625 \r\nz\r\n\" id=\"DejaVuSans-83\"/>\r\n       <path d=\"M 9.8125 72.90625 \r\nL 55.90625 72.90625 \r\nL 55.90625 64.59375 \r\nL 19.671875 64.59375 \r\nL 19.671875 43.015625 \r\nL 54.390625 43.015625 \r\nL 54.390625 34.71875 \r\nL 19.671875 34.71875 \r\nL 19.671875 8.296875 \r\nL 56.78125 8.296875 \r\nL 56.78125 0 \r\nL 9.8125 0 \r\nz\r\n\" id=\"DejaVuSans-69\"/>\r\n       <path d=\"M 8.015625 75.875 \r\nL 15.828125 75.875 \r\nQ 23.140625 64.359375 26.78125 53.3125 \r\nQ 30.421875 42.28125 30.421875 31.390625 \r\nQ 30.421875 20.453125 26.78125 9.375 \r\nQ 23.140625 -1.703125 15.828125 -13.1875 \r\nL 8.015625 -13.1875 \r\nQ 14.5 -2 17.703125 9.0625 \r\nQ 20.90625 20.125 20.90625 31.390625 \r\nQ 20.90625 42.671875 17.703125 53.65625 \r\nQ 14.5 64.65625 8.015625 75.875 \r\nz\r\n\" id=\"DejaVuSans-41\"/>\r\n      </defs>\r\n      <use xlink:href=\"#DejaVuSans-67\"/>\r\n      <use x=\"69.824219\" xlink:href=\"#DejaVuSans-111\"/>\r\n      <use x=\"131.005859\" xlink:href=\"#DejaVuSans-115\"/>\r\n      <use x=\"183.105469\" xlink:href=\"#DejaVuSans-116\"/>\r\n      <use x=\"222.314453\" xlink:href=\"#DejaVuSans-32\"/>\r\n      <use x=\"254.101562\" xlink:href=\"#DejaVuSans-70\"/>\r\n      <use x=\"306.121094\" xlink:href=\"#DejaVuSans-117\"/>\r\n      <use x=\"369.5\" xlink:href=\"#DejaVuSans-110\"/>\r\n      <use x=\"432.878906\" xlink:href=\"#DejaVuSans-99\"/>\r\n      <use x=\"487.859375\" xlink:href=\"#DejaVuSans-116\"/>\r\n      <use x=\"527.068359\" xlink:href=\"#DejaVuSans-105\"/>\r\n      <use x=\"554.851562\" xlink:href=\"#DejaVuSans-111\"/>\r\n      <use x=\"616.033203\" xlink:href=\"#DejaVuSans-110\"/>\r\n      <use x=\"679.412109\" xlink:href=\"#DejaVuSans-40\"/>\r\n      <use x=\"718.425781\" xlink:href=\"#DejaVuSans-77\"/>\r\n      <use x=\"804.705078\" xlink:href=\"#DejaVuSans-83\"/>\r\n      <use x=\"868.181641\" xlink:href=\"#DejaVuSans-69\"/>\r\n      <use x=\"931.365234\" xlink:href=\"#DejaVuSans-41\"/>\r\n     </g>\r\n    </g>\r\n   </g>\r\n   <g id=\"line2d_12\">\r\n    <path clip-path=\"url(#pf261e8e695)\" d=\"M 58.999432 32.201761 \r\nL 59.3041 42.86738 \r\nL 59.913437 44.572519 \r\nL 64.483461 54.611952 \r\nL 69.053486 64.12212 \r\nL 73.62351 73.131218 \r\nL 78.193535 81.665646 \r\nL 82.76356 89.750412 \r\nL 87.333584 97.409209 \r\nL 92.208277 105.134344 \r\nL 97.08297 112.426099 \r\nL 101.957663 119.308786 \r\nL 106.832356 125.805354 \r\nL 111.707049 131.937464 \r\nL 116.581741 137.725562 \r\nL 121.761103 143.520049 \r\nL 126.940464 148.969764 \r\nL 132.119825 154.095222 \r\nL 137.299186 158.915715 \r\nL 142.783216 163.707514 \r\nL 148.267245 168.197968 \r\nL 153.751275 172.406029 \r\nL 159.539972 176.561114 \r\nL 165.32867 180.440871 \r\nL 171.422036 184.247417 \r\nL 177.515402 187.788927 \r\nL 183.913437 191.242442 \r\nL 190.311471 194.443929 \r\nL 197.014174 197.547574 \r\nL 204.021545 200.539338 \r\nL 211.028916 203.292827 \r\nL 218.340955 205.932502 \r\nL 225.957663 208.449576 \r\nL 233.879039 210.837276 \r\nL 242.409751 213.170075 \r\nL 251.245132 215.350131 \r\nL 260.385181 217.377694 \r\nL 270.134567 219.311672 \r\nL 280.493289 221.135972 \r\nL 291.461348 222.838536 \r\nL 303.038744 224.411199 \r\nL 315.530144 225.8828 \r\nL 328.93555 227.237728 \r\nL 343.559628 228.490013 \r\nL 359.40238 229.622944 \r\nL 363.363068 229.874489 \r\nL 363.363068 229.874489 \r\n\" style=\"fill:none;stroke:#1f77b4;stroke-linecap:square;stroke-width:1.5;\"/>\r\n   </g>\r\n   <g id=\"patch_3\">\r\n    <path d=\"M 43.78125 239.758125 \r\nL 43.78125 22.318125 \r\n\" style=\"fill:none;stroke:#000000;stroke-linecap:square;stroke-linejoin:miter;stroke-width:0.8;\"/>\r\n   </g>\r\n   <g id=\"patch_4\">\r\n    <path d=\"M 378.58125 239.758125 \r\nL 378.58125 22.318125 \r\n\" style=\"fill:none;stroke:#000000;stroke-linecap:square;stroke-linejoin:miter;stroke-width:0.8;\"/>\r\n   </g>\r\n   <g id=\"patch_5\">\r\n    <path d=\"M 43.78125 239.758125 \r\nL 378.58125 239.758125 \r\n\" style=\"fill:none;stroke:#000000;stroke-linecap:square;stroke-linejoin:miter;stroke-width:0.8;\"/>\r\n   </g>\r\n   <g id=\"patch_6\">\r\n    <path d=\"M 43.78125 22.318125 \r\nL 378.58125 22.318125 \r\n\" style=\"fill:none;stroke:#000000;stroke-linecap:square;stroke-linejoin:miter;stroke-width:0.8;\"/>\r\n   </g>\r\n   <g id=\"text_14\">\r\n    <!-- Vectorization: MSE Trend over Iterations -->\r\n    <g transform=\"translate(91.277813 16.318125)scale(0.12 -0.12)\">\r\n     <defs>\r\n      <path d=\"M 28.609375 0 \r\nL 0.78125 72.90625 \r\nL 11.078125 72.90625 \r\nL 34.1875 11.53125 \r\nL 57.328125 72.90625 \r\nL 67.578125 72.90625 \r\nL 39.796875 0 \r\nz\r\n\" id=\"DejaVuSans-86\"/>\r\n      <path d=\"M 5.515625 54.6875 \r\nL 48.1875 54.6875 \r\nL 48.1875 46.484375 \r\nL 14.40625 7.171875 \r\nL 48.1875 7.171875 \r\nL 48.1875 0 \r\nL 4.296875 0 \r\nL 4.296875 8.203125 \r\nL 38.09375 47.515625 \r\nL 5.515625 47.515625 \r\nz\r\n\" id=\"DejaVuSans-122\"/>\r\n      <path d=\"M 11.71875 12.40625 \r\nL 22.015625 12.40625 \r\nL 22.015625 0 \r\nL 11.71875 0 \r\nz\r\nM 11.71875 51.703125 \r\nL 22.015625 51.703125 \r\nL 22.015625 39.3125 \r\nL 11.71875 39.3125 \r\nz\r\n\" id=\"DejaVuSans-58\"/>\r\n      <path d=\"M -0.296875 72.90625 \r\nL 61.375 72.90625 \r\nL 61.375 64.59375 \r\nL 35.5 64.59375 \r\nL 35.5 0 \r\nL 25.59375 0 \r\nL 25.59375 64.59375 \r\nL -0.296875 64.59375 \r\nz\r\n\" id=\"DejaVuSans-84\"/>\r\n      <path d=\"M 45.40625 46.390625 \r\nL 45.40625 75.984375 \r\nL 54.390625 75.984375 \r\nL 54.390625 0 \r\nL 45.40625 0 \r\nL 45.40625 8.203125 \r\nQ 42.578125 3.328125 38.25 0.953125 \r\nQ 33.9375 -1.421875 27.875 -1.421875 \r\nQ 17.96875 -1.421875 11.734375 6.484375 \r\nQ 5.515625 14.40625 5.515625 27.296875 \r\nQ 5.515625 40.1875 11.734375 48.09375 \r\nQ 17.96875 56 27.875 56 \r\nQ 33.9375 56 38.25 53.625 \r\nQ 42.578125 51.265625 45.40625 46.390625 \r\nz\r\nM 14.796875 27.296875 \r\nQ 14.796875 17.390625 18.875 11.75 \r\nQ 22.953125 6.109375 30.078125 6.109375 \r\nQ 37.203125 6.109375 41.296875 11.75 \r\nQ 45.40625 17.390625 45.40625 27.296875 \r\nQ 45.40625 37.203125 41.296875 42.84375 \r\nQ 37.203125 48.484375 30.078125 48.484375 \r\nQ 22.953125 48.484375 18.875 42.84375 \r\nQ 14.796875 37.203125 14.796875 27.296875 \r\nz\r\n\" id=\"DejaVuSans-100\"/>\r\n      <path d=\"M 2.984375 54.6875 \r\nL 12.5 54.6875 \r\nL 29.59375 8.796875 \r\nL 46.6875 54.6875 \r\nL 56.203125 54.6875 \r\nL 35.6875 0 \r\nL 23.484375 0 \r\nz\r\n\" id=\"DejaVuSans-118\"/>\r\n     </defs>\r\n     <use xlink:href=\"#DejaVuSans-86\"/>\r\n     <use x=\"60.658203\" xlink:href=\"#DejaVuSans-101\"/>\r\n     <use x=\"122.181641\" xlink:href=\"#DejaVuSans-99\"/>\r\n     <use x=\"177.162109\" xlink:href=\"#DejaVuSans-116\"/>\r\n     <use x=\"216.371094\" xlink:href=\"#DejaVuSans-111\"/>\r\n     <use x=\"277.552734\" xlink:href=\"#DejaVuSans-114\"/>\r\n     <use x=\"318.666016\" xlink:href=\"#DejaVuSans-105\"/>\r\n     <use x=\"346.449219\" xlink:href=\"#DejaVuSans-122\"/>\r\n     <use x=\"398.939453\" xlink:href=\"#DejaVuSans-97\"/>\r\n     <use x=\"460.21875\" xlink:href=\"#DejaVuSans-116\"/>\r\n     <use x=\"499.427734\" xlink:href=\"#DejaVuSans-105\"/>\r\n     <use x=\"527.210938\" xlink:href=\"#DejaVuSans-111\"/>\r\n     <use x=\"588.392578\" xlink:href=\"#DejaVuSans-110\"/>\r\n     <use x=\"651.771484\" xlink:href=\"#DejaVuSans-58\"/>\r\n     <use x=\"685.462891\" xlink:href=\"#DejaVuSans-32\"/>\r\n     <use x=\"717.25\" xlink:href=\"#DejaVuSans-77\"/>\r\n     <use x=\"803.529297\" xlink:href=\"#DejaVuSans-83\"/>\r\n     <use x=\"867.005859\" xlink:href=\"#DejaVuSans-69\"/>\r\n     <use x=\"930.189453\" xlink:href=\"#DejaVuSans-32\"/>\r\n     <use x=\"961.976562\" xlink:href=\"#DejaVuSans-84\"/>\r\n     <use x=\"1008.310547\" xlink:href=\"#DejaVuSans-114\"/>\r\n     <use x=\"1047.173828\" xlink:href=\"#DejaVuSans-101\"/>\r\n     <use x=\"1108.697266\" xlink:href=\"#DejaVuSans-110\"/>\r\n     <use x=\"1172.076172\" xlink:href=\"#DejaVuSans-100\"/>\r\n     <use x=\"1235.552734\" xlink:href=\"#DejaVuSans-32\"/>\r\n     <use x=\"1267.339844\" xlink:href=\"#DejaVuSans-111\"/>\r\n     <use x=\"1328.521484\" xlink:href=\"#DejaVuSans-118\"/>\r\n     <use x=\"1387.701172\" xlink:href=\"#DejaVuSans-101\"/>\r\n     <use x=\"1449.224609\" xlink:href=\"#DejaVuSans-114\"/>\r\n     <use x=\"1490.337891\" xlink:href=\"#DejaVuSans-32\"/>\r\n     <use x=\"1522.125\" xlink:href=\"#DejaVuSans-73\"/>\r\n     <use x=\"1551.617188\" xlink:href=\"#DejaVuSans-116\"/>\r\n     <use x=\"1590.826172\" xlink:href=\"#DejaVuSans-101\"/>\r\n     <use x=\"1652.349609\" xlink:href=\"#DejaVuSans-114\"/>\r\n     <use x=\"1693.462891\" xlink:href=\"#DejaVuSans-97\"/>\r\n     <use x=\"1754.742188\" xlink:href=\"#DejaVuSans-116\"/>\r\n     <use x=\"1793.951172\" xlink:href=\"#DejaVuSans-105\"/>\r\n     <use x=\"1821.734375\" xlink:href=\"#DejaVuSans-111\"/>\r\n     <use x=\"1882.916016\" xlink:href=\"#DejaVuSans-110\"/>\r\n     <use x=\"1946.294922\" xlink:href=\"#DejaVuSans-115\"/>\r\n    </g>\r\n   </g>\r\n  </g>\r\n </g>\r\n <defs>\r\n  <clipPath id=\"pf261e8e695\">\r\n   <rect height=\"217.44\" width=\"334.8\" x=\"43.78125\" y=\"22.318125\"/>\r\n  </clipPath>\r\n </defs>\r\n</svg>\r\n",
      "image/png": "[encoded data removed]"
     },
     "metadata": {
      "needs_background": "light"
     }
    }
   ],
   "source": [
    "plt.plot(np.arange(0, 1000), cost_list)\n",
    "plt.xlabel('Iteration'); plt.ylabel('Cost Function(MSE)'); plt.title('Vectorization: MSE Trend over Iterations')"
   ]
  },
  {
   "cell_type": "code",
   "execution_count": 25,
   "metadata": {},
   "outputs": [
    {
     "output_type": "execute_result",
     "data": {
      "text/plain": "4.535377341908056"
     },
     "metadata": {},
     "execution_count": 25
    }
   ],
   "source": [
    "cost_val"
   ]
  },
  {
   "cell_type": "code",
   "execution_count": 26,
   "metadata": {},
   "outputs": [
    {
     "output_type": "execute_result",
     "data": {
      "text/plain": "array([-3.09481526,  1.11256796])"
     },
     "metadata": {},
     "execution_count": 26
    }
   ],
   "source": [
    "theta"
   ]
  },
  {
   "cell_type": "code",
   "execution_count": 29,
   "metadata": {},
   "outputs": [
    {
     "output_type": "execute_result",
     "data": {
      "text/plain": "[<matplotlib.lines.Line2D at 0x12395160>,\n <matplotlib.lines.Line2D at 0x130e8ec8>]"
     },
     "metadata": {},
     "execution_count": 29
    },
    {
     "output_type": "display_data",
     "data": {
      "text/plain": "<Figure size 432x288 with 1 Axes>",
      "image/svg+xml": "<?xml version=\"1.0\" encoding=\"utf-8\" standalone=\"no\"?>\r\n<!DOCTYPE svg PUBLIC \"-//W3C//DTD SVG 1.1//EN\"\r\n  \"http://www.w3.org/Graphics/SVG/1.1/DTD/svg11.dtd\">\r\n<!-- Created with matplotlib (https://matplotlib.org/) -->\r\n<svg height=\"248.71881pt\" version=\"1.1\" viewBox=\"0 0 368.925 248.71881\" width=\"368.925pt\" xmlns=\"http://www.w3.org/2000/svg\" xmlns:xlink=\"http://www.w3.org/1999/xlink\">\r\n <metadata>\r\n  <rdf:RDF xmlns:cc=\"http://creativecommons.org/ns#\" xmlns:dc=\"http://purl.org/dc/elements/1.1/\" xmlns:rdf=\"http://www.w3.org/1999/02/22-rdf-syntax-ns#\">\r\n   <cc:Work>\r\n    <dc:type rdf:resource=\"http://purl.org/dc/dcmitype/StillImage\"/>\r\n    <dc:date>2020-08-07T22:02:15.387273</dc:date>\r\n    <dc:format>image/svg+xml</dc:format>\r\n    <dc:creator>\r\n     <cc:Agent>\r\n      <dc:title>Matplotlib v3.3.0, https://matplotlib.org/</dc:title>\r\n     </cc:Agent>\r\n    </dc:creator>\r\n   </cc:Work>\r\n  </rdf:RDF>\r\n </metadata>\r\n <defs>\r\n  <style type=\"text/css\">*{stroke-linecap:butt;stroke-linejoin:round;}</style>\r\n </defs>\r\n <g id=\"figure_1\">\r\n  <g id=\"patch_1\">\r\n   <path d=\"M -0 248.71881 \r\nL 368.925 248.71881 \r\nL 368.925 0 \r\nL -0 0 \r\nz\r\n\" style=\"fill:none;\"/>\r\n  </g>\r\n  <g id=\"axes_1\">\r\n   <g id=\"patch_2\">\r\n    <path d=\"M 26.925 224.840685 \r\nL 361.725 224.840685 \r\nL 361.725 7.400685 \r\nL 26.925 7.400685 \r\nz\r\n\" style=\"fill:#ffffff;\"/>\r\n   </g>\r\n   <g id=\"PathCollection_1\">\r\n    <defs>\r\n     <path d=\"M 0 1.5 \r\nC 0.397805 1.5 0.77937 1.341951 1.06066 1.06066 \r\nC 1.341951 0.77937 1.5 0.397805 1.5 0 \r\nC 1.5 -0.397805 1.341951 -0.77937 1.06066 -1.06066 \r\nC 0.77937 -1.341951 0.397805 -1.5 0 -1.5 \r\nC -0.397805 -1.5 -0.77937 -1.341951 -1.06066 -1.06066 \r\nC -1.341951 -0.77937 -1.5 -0.397805 -1.5 0 \r\nC -1.5 0.397805 -1.341951 0.77937 -1.06066 1.06066 \r\nC -0.77937 1.341951 -0.397805 1.5 0 1.5 \r\nz\r\n\" id=\"m1cfdcdd979\" style=\"stroke:#1f77b4;\"/>\r\n    </defs>\r\n    <g clip-path=\"url(#pefb27c09a5)\">\r\n     <use style=\"fill:#1f77b4;stroke:#1f77b4;\" x=\"115.497359\" xlink:href=\"#m1cfdcdd979\" y=\"65.583084\"/>\r\n     <use style=\"fill:#1f77b4;stroke:#1f77b4;\" x=\"107.137156\" xlink:href=\"#m1cfdcdd979\" y=\"127.931593\"/>\r\n     <use style=\"fill:#1f77b4;stroke:#1f77b4;\" x=\"150.07076\" xlink:href=\"#m1cfdcdd979\" y=\"94.540237\"/>\r\n     <use style=\"fill:#1f77b4;stroke:#1f77b4;\" x=\"128.317581\" xlink:href=\"#m1cfdcdd979\" y=\"107.862001\"/>\r\n     <use style=\"fill:#1f77b4;stroke:#1f77b4;\" x=\"111.904367\" xlink:href=\"#m1cfdcdd979\" y=\"144.929368\"/>\r\n     <use style=\"fill:#1f77b4;stroke:#1f77b4;\" x=\"148.122821\" xlink:href=\"#m1cfdcdd979\" y=\"107.626218\"/>\r\n     <use style=\"fill:#1f77b4;stroke:#1f77b4;\" x=\"135.110246\" xlink:href=\"#m1cfdcdd979\" y=\"163.165743\"/>\r\n     <use style=\"fill:#1f77b4;stroke:#1f77b4;\" x=\"150.924867\" xlink:href=\"#m1cfdcdd979\" y=\"106.786239\"/>\r\n     <use style=\"fill:#1f77b4;stroke:#1f77b4;\" x=\"120.896178\" xlink:href=\"#m1cfdcdd979\" y=\"146.584273\"/>\r\n     <use style=\"fill:#1f77b4;stroke:#1f77b4;\" x=\"100.345927\" xlink:href=\"#m1cfdcdd979\" y=\"167.083432\"/>\r\n     <use style=\"fill:#1f77b4;stroke:#1f77b4;\" x=\"109.764074\" xlink:href=\"#m1cfdcdd979\" y=\"171.242062\"/>\r\n     <use style=\"fill:#1f77b4;stroke:#1f77b4;\" x=\"231.109031\" xlink:href=\"#m1cfdcdd979\" y=\"80.960585\"/>\r\n     <use style=\"fill:#1f77b4;stroke:#1f77b4;\" x=\"110.09854\" xlink:href=\"#m1cfdcdd979\" y=\"171.957518\"/>\r\n     <use style=\"fill:#1f77b4;stroke:#1f77b4;\" x=\"148.488867\" xlink:href=\"#m1cfdcdd979\" y=\"141.963654\"/>\r\n     <use style=\"fill:#1f77b4;stroke:#1f77b4;\" x=\"108.759242\" xlink:href=\"#m1cfdcdd979\" y=\"189.928047\"/>\r\n     <use style=\"fill:#1f77b4;stroke:#1f77b4;\" x=\"105.008348\" xlink:href=\"#m1cfdcdd979\" y=\"169.321164\"/>\r\n     <use style=\"fill:#1f77b4;stroke:#1f77b4;\" x=\"119.162125\" xlink:href=\"#m1cfdcdd979\" y=\"156.118029\"/>\r\n     <use style=\"fill:#1f77b4;stroke:#1f77b4;\" x=\"101.42971\" xlink:href=\"#m1cfdcdd979\" y=\"191.073144\"/>\r\n     <use style=\"fill:#1f77b4;stroke:#1f77b4;\" x=\"120.0837\" xlink:href=\"#m1cfdcdd979\" y=\"168.297717\"/>\r\n     <use style=\"fill:#1f77b4;stroke:#1f77b4;\" x=\"129.287962\" xlink:href=\"#m1cfdcdd979\" y=\"155.495413\"/>\r\n     <use style=\"fill:#1f77b4;stroke:#1f77b4;\" x=\"116.631384\" xlink:href=\"#m1cfdcdd979\" y=\"172.079094\"/>\r\n     <use style=\"fill:#1f77b4;stroke:#1f77b4;\" x=\"318.759098\" xlink:href=\"#m1cfdcdd979\" y=\"34.820714\"/>\r\n     <use style=\"fill:#1f77b4;stroke:#1f77b4;\" x=\"106.597418\" xlink:href=\"#m1cfdcdd979\" y=\"163.794253\"/>\r\n     <use style=\"fill:#1f77b4;stroke:#1f77b4;\" x=\"118.597984\" xlink:href=\"#m1cfdcdd979\" y=\"156.982322\"/>\r\n     <use style=\"fill:#1f77b4;stroke:#1f77b4;\" x=\"107.671153\" xlink:href=\"#m1cfdcdd979\" y=\"172.492451\"/>\r\n     <use style=\"fill:#1f77b4;stroke:#1f77b4;\" x=\"299.739062\" xlink:href=\"#m1cfdcdd979\" y=\"28.402984\"/>\r\n     <use style=\"fill:#1f77b4;stroke:#1f77b4;\" x=\"211.931093\" xlink:href=\"#m1cfdcdd979\" y=\"95.726523\"/>\r\n     <use style=\"fill:#1f77b4;stroke:#1f77b4;\" x=\"185.073368\" xlink:href=\"#m1cfdcdd979\" y=\"143.283305\"/>\r\n     <use style=\"fill:#1f77b4;stroke:#1f77b4;\" x=\"216.926544\" xlink:href=\"#m1cfdcdd979\" y=\"86.950958\"/>\r\n     <use style=\"fill:#1f77b4;stroke:#1f77b4;\" x=\"346.506818\" xlink:href=\"#m1cfdcdd979\" y=\"17.284321\"/>\r\n     <use style=\"fill:#1f77b4;stroke:#1f77b4;\" x=\"103.185295\" xlink:href=\"#m1cfdcdd979\" y=\"204.194271\"/>\r\n     <use style=\"fill:#1f77b4;stroke:#1f77b4;\" x=\"122.377588\" xlink:href=\"#m1cfdcdd979\" y=\"151.020686\"/>\r\n     <use style=\"fill:#1f77b4;stroke:#1f77b4;\" x=\"160.543981\" xlink:href=\"#m1cfdcdd979\" y=\"105.798896\"/>\r\n     <use style=\"fill:#1f77b4;stroke:#1f77b4;\" x=\"112.363718\" xlink:href=\"#m1cfdcdd979\" y=\"181.577482\"/>\r\n     <use style=\"fill:#1f77b4;stroke:#1f77b4;\" x=\"145.656676\" xlink:href=\"#m1cfdcdd979\" y=\"146.997631\"/>\r\n     <use style=\"fill:#1f77b4;stroke:#1f77b4;\" x=\"141.670364\" xlink:href=\"#m1cfdcdd979\" y=\"161.588941\"/>\r\n     <use style=\"fill:#1f77b4;stroke:#1f77b4;\" x=\"144.00301\" xlink:href=\"#m1cfdcdd979\" y=\"164.874436\"/>\r\n     <use style=\"fill:#1f77b4;stroke:#1f77b4;\" x=\"108.265439\" xlink:href=\"#m1cfdcdd979\" y=\"170.206089\"/>\r\n     <use style=\"fill:#1f77b4;stroke:#1f77b4;\" x=\"212.045931\" xlink:href=\"#m1cfdcdd979\" y=\"120.660621\"/>\r\n     <use style=\"fill:#1f77b4;stroke:#1f77b4;\" x=\"118.989868\" xlink:href=\"#m1cfdcdd979\" y=\"154.698907\"/>\r\n     <use style=\"fill:#1f77b4;stroke:#1f77b4;\" x=\"105.403103\" xlink:href=\"#m1cfdcdd979\" y=\"191.104091\"/>\r\n     <use style=\"fill:#1f77b4;stroke:#1f77b4;\" x=\"126.584963\" xlink:href=\"#m1cfdcdd979\" y=\"166.384187\"/>\r\n     <use style=\"fill:#1f77b4;stroke:#1f77b4;\" x=\"195.85378\" xlink:href=\"#m1cfdcdd979\" y=\"155.524149\"/>\r\n     <use style=\"fill:#1f77b4;stroke:#1f77b4;\" x=\"110.668423\" xlink:href=\"#m1cfdcdd979\" y=\"177.22212\"/>\r\n     <use style=\"fill:#1f77b4;stroke:#1f77b4;\" x=\"140.110003\" xlink:href=\"#m1cfdcdd979\" y=\"145.603561\"/>\r\n     <use style=\"fill:#1f77b4;stroke:#1f77b4;\" x=\"129.608072\" xlink:href=\"#m1cfdcdd979\" y=\"187.495646\"/>\r\n     <use style=\"fill:#1f77b4;stroke:#1f77b4;\" x=\"100.569861\" xlink:href=\"#m1cfdcdd979\" y=\"157.378733\"/>\r\n     <use style=\"fill:#1f77b4;stroke:#1f77b4;\" x=\"111.06605\" xlink:href=\"#m1cfdcdd979\" y=\"181.618007\"/>\r\n     <use style=\"fill:#1f77b4;stroke:#1f77b4;\" x=\"195.738942\" xlink:href=\"#m1cfdcdd979\" y=\"136.227485\"/>\r\n     <use style=\"fill:#1f77b4;stroke:#1f77b4;\" x=\"107.336687\" xlink:href=\"#m1cfdcdd979\" y=\"187.704904\"/>\r\n     <use style=\"fill:#1f77b4;stroke:#1f77b4;\" x=\"136.026078\" xlink:href=\"#m1cfdcdd979\" y=\"145.466512\"/>\r\n     <use style=\"fill:#1f77b4;stroke:#1f77b4;\" x=\"103.979112\" xlink:href=\"#m1cfdcdd979\" y=\"181.650427\"/>\r\n     <use style=\"fill:#1f77b4;stroke:#1f77b4;\" x=\"134.356622\" xlink:href=\"#m1cfdcdd979\" y=\"163.606363\"/>\r\n     <use style=\"fill:#1f77b4;stroke:#1f77b4;\" x=\"136.928992\" xlink:href=\"#m1cfdcdd979\" y=\"158.377866\"/>\r\n     <use style=\"fill:#1f77b4;stroke:#1f77b4;\" x=\"118.69416\" xlink:href=\"#m1cfdcdd979\" y=\"184.717823\"/>\r\n     <use style=\"fill:#1f77b4;stroke:#1f77b4;\" x=\"119.068819\" xlink:href=\"#m1cfdcdd979\" y=\"205.676023\"/>\r\n     <use style=\"fill:#1f77b4;stroke:#1f77b4;\" x=\"117.852972\" xlink:href=\"#m1cfdcdd979\" y=\"176.964232\"/>\r\n     <use style=\"fill:#1f77b4;stroke:#1f77b4;\" x=\"108.744887\" xlink:href=\"#m1cfdcdd979\" y=\"161.280212\"/>\r\n     <use style=\"fill:#1f77b4;stroke:#1f77b4;\" x=\"161.433975\" xlink:href=\"#m1cfdcdd979\" y=\"166.009144\"/>\r\n     <use style=\"fill:#1f77b4;stroke:#1f77b4;\" x=\"163.492445\" xlink:href=\"#m1cfdcdd979\" y=\"155.312681\"/>\r\n     <use style=\"fill:#1f77b4;stroke:#1f77b4;\" x=\"154.474795\" xlink:href=\"#m1cfdcdd979\" y=\"157.115687\"/>\r\n     <use style=\"fill:#1f77b4;stroke:#1f77b4;\" x=\"102.135963\" xlink:href=\"#m1cfdcdd979\" y=\"200.678077\"/>\r\n     <use style=\"fill:#1f77b4;stroke:#1f77b4;\" x=\"333.243035\" xlink:href=\"#m1cfdcdd979\" y=\"63.09999\"/>\r\n     <use style=\"fill:#1f77b4;stroke:#1f77b4;\" x=\"241.788961\" xlink:href=\"#m1cfdcdd979\" y=\"106.388355\"/>\r\n     <use style=\"fill:#1f77b4;stroke:#1f77b4;\" x=\"299.940029\" xlink:href=\"#m1cfdcdd979\" y=\"69.547193\"/>\r\n     <use style=\"fill:#1f77b4;stroke:#1f77b4;\" x=\"131.403851\" xlink:href=\"#m1cfdcdd979\" y=\"159.209739\"/>\r\n     <use style=\"fill:#1f77b4;stroke:#1f77b4;\" x=\"146.862475\" xlink:href=\"#m1cfdcdd979\" y=\"152.880427\"/>\r\n     <use style=\"fill:#1f77b4;stroke:#1f77b4;\" x=\"174.723597\" xlink:href=\"#m1cfdcdd979\" y=\"137.914074\"/>\r\n     <use style=\"fill:#1f77b4;stroke:#1f77b4;\" x=\"106.730917\" xlink:href=\"#m1cfdcdd979\" y=\"187.709325\"/>\r\n     <use style=\"fill:#1f77b4;stroke:#1f77b4;\" x=\"319.778285\" xlink:href=\"#m1cfdcdd979\" y=\"40.531094\"/>\r\n     <use style=\"fill:#1f77b4;stroke:#1f77b4;\" x=\"173.288123\" xlink:href=\"#m1cfdcdd979\" y=\"145.985972\"/>\r\n     <use style=\"fill:#1f77b4;stroke:#1f77b4;\" x=\"133.073307\" xlink:href=\"#m1cfdcdd979\" y=\"165.541261\"/>\r\n     <use style=\"fill:#1f77b4;stroke:#1f77b4;\" x=\"114.005901\" xlink:href=\"#m1cfdcdd979\" y=\"185.785479\"/>\r\n     <use style=\"fill:#1f77b4;stroke:#1f77b4;\" x=\"131.514382\" xlink:href=\"#m1cfdcdd979\" y=\"170.587027\"/>\r\n     <use style=\"fill:#1f77b4;stroke:#1f77b4;\" x=\"99.9483\" xlink:href=\"#m1cfdcdd979\" y=\"214.957048\"/>\r\n     <use style=\"fill:#1f77b4;stroke:#1f77b4;\" x=\"121.781866\" xlink:href=\"#m1cfdcdd979\" y=\"193.018284\"/>\r\n     <use style=\"fill:#1f77b4;stroke:#1f77b4;\" x=\"136.003111\" xlink:href=\"#m1cfdcdd979\" y=\"166.583129\"/>\r\n     <use style=\"fill:#1f77b4;stroke:#1f77b4;\" x=\"100.086106\" xlink:href=\"#m1cfdcdd979\" y=\"153.195788\"/>\r\n     <use style=\"fill:#1f77b4;stroke:#1f77b4;\" x=\"175.269077\" xlink:href=\"#m1cfdcdd979\" y=\"145.450302\"/>\r\n     <use style=\"fill:#1f77b4;stroke:#1f77b4;\" x=\"101.108164\" xlink:href=\"#m1cfdcdd979\" y=\"180.044153\"/>\r\n     <use style=\"fill:#1f77b4;stroke:#1f77b4;\" x=\"110.029637\" xlink:href=\"#m1cfdcdd979\" y=\"191.671739\"/>\r\n     <use style=\"fill:#1f77b4;stroke:#1f77b4;\" x=\"102.266591\" xlink:href=\"#m1cfdcdd979\" y=\"193.700361\"/>\r\n     <use style=\"fill:#1f77b4;stroke:#1f77b4;\" x=\"119.022884\" xlink:href=\"#m1cfdcdd979\" y=\"190.204872\"/>\r\n     <use style=\"fill:#1f77b4;stroke:#1f77b4;\" x=\"168.015625\" xlink:href=\"#m1cfdcdd979\" y=\"139.622767\"/>\r\n     <use style=\"fill:#1f77b4;stroke:#1f77b4;\" x=\"121.322514\" xlink:href=\"#m1cfdcdd979\" y=\"155.832141\"/>\r\n     <use style=\"fill:#1f77b4;stroke:#1f77b4;\" x=\"150.050663\" xlink:href=\"#m1cfdcdd979\" y=\"163.95267\"/>\r\n     <use style=\"fill:#1f77b4;stroke:#1f77b4;\" x=\"159.567858\" xlink:href=\"#m1cfdcdd979\" y=\"145.115047\"/>\r\n     <use style=\"fill:#1f77b4;stroke:#1f77b4;\" x=\"113.945611\" xlink:href=\"#m1cfdcdd979\" y=\"188.375045\"/>\r\n     <use style=\"fill:#1f77b4;stroke:#1f77b4;\" x=\"107.032366\" xlink:href=\"#m1cfdcdd979\" y=\"194.085056\"/>\r\n     <use style=\"fill:#1f77b4;stroke:#1f77b4;\" x=\"100.414829\" xlink:href=\"#m1cfdcdd979\" y=\"174.416297\"/>\r\n     <use style=\"fill:#1f77b4;stroke:#1f77b4;\" x=\"109.72101\" xlink:href=\"#m1cfdcdd979\" y=\"181.609902\"/>\r\n     <use style=\"fill:#1f77b4;stroke:#1f77b4;\" x=\"137.409876\" xlink:href=\"#m1cfdcdd979\" y=\"163.551838\"/>\r\n     <use style=\"fill:#1f77b4;stroke:#1f77b4;\" x=\"112.060833\" xlink:href=\"#m1cfdcdd979\" y=\"142.132387\"/>\r\n     <use style=\"fill:#1f77b4;stroke:#1f77b4;\" x=\"103.946097\" xlink:href=\"#m1cfdcdd979\" y=\"180.565087\"/>\r\n     <use style=\"fill:#1f77b4;stroke:#1f77b4;\" x=\"146.838071\" xlink:href=\"#m1cfdcdd979\" y=\"194.140023\"/>\r\n     <use style=\"fill:#1f77b4;stroke:#1f77b4;\" x=\"220.055879\" xlink:href=\"#m1cfdcdd979\" y=\"128.484947\"/>\r\n     <use style=\"fill:#1f77b4;stroke:#1f77b4;\" x=\"105.833745\" xlink:href=\"#m1cfdcdd979\" y=\"190.65846\"/>\r\n    </g>\r\n   </g>\r\n   <g id=\"matplotlib.axis_1\">\r\n    <g id=\"xtick_1\">\r\n     <g id=\"line2d_1\">\r\n      <defs>\r\n       <path d=\"M 0 0 \r\nL 0 3.5 \r\n\" id=\"m50bebab3c6\" style=\"stroke:#000000;stroke-width:0.8;\"/>\r\n      </defs>\r\n      <g>\r\n       <use style=\"stroke:#000000;stroke-width:0.8;\" x=\"27.788438\" xlink:href=\"#m50bebab3c6\" y=\"224.840685\"/>\r\n      </g>\r\n     </g>\r\n     <g id=\"text_1\">\r\n      <!-- 0 -->\r\n      <g transform=\"translate(24.607188 239.439122)scale(0.1 -0.1)\">\r\n       <defs>\r\n        <path d=\"M 31.78125 66.40625 \r\nQ 24.171875 66.40625 20.328125 58.90625 \r\nQ 16.5 51.421875 16.5 36.375 \r\nQ 16.5 21.390625 20.328125 13.890625 \r\nQ 24.171875 6.390625 31.78125 6.390625 \r\nQ 39.453125 6.390625 43.28125 13.890625 \r\nQ 47.125 21.390625 47.125 36.375 \r\nQ 47.125 51.421875 43.28125 58.90625 \r\nQ 39.453125 66.40625 31.78125 66.40625 \r\nz\r\nM 31.78125 74.21875 \r\nQ 44.046875 74.21875 50.515625 64.515625 \r\nQ 56.984375 54.828125 56.984375 36.375 \r\nQ 56.984375 17.96875 50.515625 8.265625 \r\nQ 44.046875 -1.421875 31.78125 -1.421875 \r\nQ 19.53125 -1.421875 13.0625 8.265625 \r\nQ 6.59375 17.96875 6.59375 36.375 \r\nQ 6.59375 54.828125 13.0625 64.515625 \r\nQ 19.53125 74.21875 31.78125 74.21875 \r\nz\r\n\" id=\"DejaVuSans-48\"/>\r\n       </defs>\r\n       <use xlink:href=\"#DejaVuSans-48\"/>\r\n      </g>\r\n     </g>\r\n    </g>\r\n    <g id=\"xtick_2\">\r\n     <g id=\"line2d_2\">\r\n      <g>\r\n       <use style=\"stroke:#000000;stroke-width:0.8;\" x=\"99.562158\" xlink:href=\"#m50bebab3c6\" y=\"224.840685\"/>\r\n      </g>\r\n     </g>\r\n     <g id=\"text_2\">\r\n      <!-- 5 -->\r\n      <g transform=\"translate(96.380908 239.439122)scale(0.1 -0.1)\">\r\n       <defs>\r\n        <path d=\"M 10.796875 72.90625 \r\nL 49.515625 72.90625 \r\nL 49.515625 64.59375 \r\nL 19.828125 64.59375 \r\nL 19.828125 46.734375 \r\nQ 21.96875 47.46875 24.109375 47.828125 \r\nQ 26.265625 48.1875 28.421875 48.1875 \r\nQ 40.625 48.1875 47.75 41.5 \r\nQ 54.890625 34.8125 54.890625 23.390625 \r\nQ 54.890625 11.625 47.5625 5.09375 \r\nQ 40.234375 -1.421875 26.90625 -1.421875 \r\nQ 22.3125 -1.421875 17.546875 -0.640625 \r\nQ 12.796875 0.140625 7.71875 1.703125 \r\nL 7.71875 11.625 \r\nQ 12.109375 9.234375 16.796875 8.0625 \r\nQ 21.484375 6.890625 26.703125 6.890625 \r\nQ 35.15625 6.890625 40.078125 11.328125 \r\nQ 45.015625 15.765625 45.015625 23.390625 \r\nQ 45.015625 31 40.078125 35.4375 \r\nQ 35.15625 39.890625 26.703125 39.890625 \r\nQ 22.75 39.890625 18.8125 39.015625 \r\nQ 14.890625 38.140625 10.796875 36.28125 \r\nz\r\n\" id=\"DejaVuSans-53\"/>\r\n       </defs>\r\n       <use xlink:href=\"#DejaVuSans-53\"/>\r\n      </g>\r\n     </g>\r\n    </g>\r\n    <g id=\"xtick_3\">\r\n     <g id=\"line2d_3\">\r\n      <g>\r\n       <use style=\"stroke:#000000;stroke-width:0.8;\" x=\"171.335878\" xlink:href=\"#m50bebab3c6\" y=\"224.840685\"/>\r\n      </g>\r\n     </g>\r\n     <g id=\"text_3\">\r\n      <!-- 10 -->\r\n      <g transform=\"translate(164.973378 239.439122)scale(0.1 -0.1)\">\r\n       <defs>\r\n        <path d=\"M 12.40625 8.296875 \r\nL 28.515625 8.296875 \r\nL 28.515625 63.921875 \r\nL 10.984375 60.40625 \r\nL 10.984375 69.390625 \r\nL 28.421875 72.90625 \r\nL 38.28125 72.90625 \r\nL 38.28125 8.296875 \r\nL 54.390625 8.296875 \r\nL 54.390625 0 \r\nL 12.40625 0 \r\nz\r\n\" id=\"DejaVuSans-49\"/>\r\n       </defs>\r\n       <use xlink:href=\"#DejaVuSans-49\"/>\r\n       <use x=\"63.623047\" xlink:href=\"#DejaVuSans-48\"/>\r\n      </g>\r\n     </g>\r\n    </g>\r\n    <g id=\"xtick_4\">\r\n     <g id=\"line2d_4\">\r\n      <g>\r\n       <use style=\"stroke:#000000;stroke-width:0.8;\" x=\"243.109597\" xlink:href=\"#m50bebab3c6\" y=\"224.840685\"/>\r\n      </g>\r\n     </g>\r\n     <g id=\"text_4\">\r\n      <!-- 15 -->\r\n      <g transform=\"translate(236.747097 239.439122)scale(0.1 -0.1)\">\r\n       <use xlink:href=\"#DejaVuSans-49\"/>\r\n       <use x=\"63.623047\" xlink:href=\"#DejaVuSans-53\"/>\r\n      </g>\r\n     </g>\r\n    </g>\r\n    <g id=\"xtick_5\">\r\n     <g id=\"line2d_5\">\r\n      <g>\r\n       <use style=\"stroke:#000000;stroke-width:0.8;\" x=\"314.883317\" xlink:href=\"#m50bebab3c6\" y=\"224.840685\"/>\r\n      </g>\r\n     </g>\r\n     <g id=\"text_5\">\r\n      <!-- 20 -->\r\n      <g transform=\"translate(308.520817 239.439122)scale(0.1 -0.1)\">\r\n       <defs>\r\n        <path d=\"M 19.1875 8.296875 \r\nL 53.609375 8.296875 \r\nL 53.609375 0 \r\nL 7.328125 0 \r\nL 7.328125 8.296875 \r\nQ 12.9375 14.109375 22.625 23.890625 \r\nQ 32.328125 33.6875 34.8125 36.53125 \r\nQ 39.546875 41.84375 41.421875 45.53125 \r\nQ 43.3125 49.21875 43.3125 52.78125 \r\nQ 43.3125 58.59375 39.234375 62.25 \r\nQ 35.15625 65.921875 28.609375 65.921875 \r\nQ 23.96875 65.921875 18.8125 64.3125 \r\nQ 13.671875 62.703125 7.8125 59.421875 \r\nL 7.8125 69.390625 \r\nQ 13.765625 71.78125 18.9375 73 \r\nQ 24.125 74.21875 28.421875 74.21875 \r\nQ 39.75 74.21875 46.484375 68.546875 \r\nQ 53.21875 62.890625 53.21875 53.421875 \r\nQ 53.21875 48.921875 51.53125 44.890625 \r\nQ 49.859375 40.875 45.40625 35.40625 \r\nQ 44.1875 33.984375 37.640625 27.21875 \r\nQ 31.109375 20.453125 19.1875 8.296875 \r\nz\r\n\" id=\"DejaVuSans-50\"/>\r\n       </defs>\r\n       <use xlink:href=\"#DejaVuSans-50\"/>\r\n       <use x=\"63.623047\" xlink:href=\"#DejaVuSans-48\"/>\r\n      </g>\r\n     </g>\r\n    </g>\r\n   </g>\r\n   <g id=\"matplotlib.axis_2\">\r\n    <g id=\"ytick_1\">\r\n     <g id=\"line2d_6\">\r\n      <defs>\r\n       <path d=\"M 0 0 \r\nL -3.5 0 \r\n\" id=\"m06e2cad7a3\" style=\"stroke:#000000;stroke-width:0.8;\"/>\r\n      </defs>\r\n      <g>\r\n       <use style=\"stroke:#000000;stroke-width:0.8;\" x=\"26.925\" xlink:href=\"#m06e2cad7a3\" y=\"195.205028\"/>\r\n      </g>\r\n     </g>\r\n     <g id=\"text_6\">\r\n      <!-- 0 -->\r\n      <g transform=\"translate(13.5625 199.004246)scale(0.1 -0.1)\">\r\n       <use xlink:href=\"#DejaVuSans-48\"/>\r\n      </g>\r\n     </g>\r\n    </g>\r\n    <g id=\"ytick_2\">\r\n     <g id=\"line2d_7\">\r\n      <g>\r\n       <use style=\"stroke:#000000;stroke-width:0.8;\" x=\"26.925\" xlink:href=\"#m06e2cad7a3\" y=\"158.363866\"/>\r\n      </g>\r\n     </g>\r\n     <g id=\"text_7\">\r\n      <!-- 5 -->\r\n      <g transform=\"translate(13.5625 162.163085)scale(0.1 -0.1)\">\r\n       <use xlink:href=\"#DejaVuSans-53\"/>\r\n      </g>\r\n     </g>\r\n    </g>\r\n    <g id=\"ytick_3\">\r\n     <g id=\"line2d_8\">\r\n      <g>\r\n       <use style=\"stroke:#000000;stroke-width:0.8;\" x=\"26.925\" xlink:href=\"#m06e2cad7a3\" y=\"121.522704\"/>\r\n      </g>\r\n     </g>\r\n     <g id=\"text_8\">\r\n      <!-- 10 -->\r\n      <g transform=\"translate(7.2 125.321923)scale(0.1 -0.1)\">\r\n       <use xlink:href=\"#DejaVuSans-49\"/>\r\n       <use x=\"63.623047\" xlink:href=\"#DejaVuSans-48\"/>\r\n      </g>\r\n     </g>\r\n    </g>\r\n    <g id=\"ytick_4\">\r\n     <g id=\"line2d_9\">\r\n      <g>\r\n       <use style=\"stroke:#000000;stroke-width:0.8;\" x=\"26.925\" xlink:href=\"#m06e2cad7a3\" y=\"84.681542\"/>\r\n      </g>\r\n     </g>\r\n     <g id=\"text_9\">\r\n      <!-- 15 -->\r\n      <g transform=\"translate(7.2 88.480761)scale(0.1 -0.1)\">\r\n       <use xlink:href=\"#DejaVuSans-49\"/>\r\n       <use x=\"63.623047\" xlink:href=\"#DejaVuSans-53\"/>\r\n      </g>\r\n     </g>\r\n    </g>\r\n    <g id=\"ytick_5\">\r\n     <g id=\"line2d_10\">\r\n      <g>\r\n       <use style=\"stroke:#000000;stroke-width:0.8;\" x=\"26.925\" xlink:href=\"#m06e2cad7a3\" y=\"47.840381\"/>\r\n      </g>\r\n     </g>\r\n     <g id=\"text_10\">\r\n      <!-- 20 -->\r\n      <g transform=\"translate(7.2 51.639599)scale(0.1 -0.1)\">\r\n       <use xlink:href=\"#DejaVuSans-50\"/>\r\n       <use x=\"63.623047\" xlink:href=\"#DejaVuSans-48\"/>\r\n      </g>\r\n     </g>\r\n    </g>\r\n    <g id=\"ytick_6\">\r\n     <g id=\"line2d_11\">\r\n      <g>\r\n       <use style=\"stroke:#000000;stroke-width:0.8;\" x=\"26.925\" xlink:href=\"#m06e2cad7a3\" y=\"10.999219\"/>\r\n      </g>\r\n     </g>\r\n     <g id=\"text_11\">\r\n      <!-- 25 -->\r\n      <g transform=\"translate(7.2 14.798437)scale(0.1 -0.1)\">\r\n       <use xlink:href=\"#DejaVuSans-50\"/>\r\n       <use x=\"63.623047\" xlink:href=\"#DejaVuSans-53\"/>\r\n      </g>\r\n     </g>\r\n    </g>\r\n   </g>\r\n   <g id=\"line2d_12\">\r\n    <path clip-path=\"url(#pefb27c09a5)\" d=\"M 42.143182 167.919828 \r\nL 42.143182 172.694145 \r\nL 42.143182 148.175766 \r\nL 42.143182 160.598498 \r\nL 42.143182 169.971702 \r\nL 42.143182 149.288188 \r\nL 42.143182 156.719366 \r\nL 42.143182 147.688005 \r\nL 42.143182 164.836688 \r\nL 42.143182 176.572457 \r\nL 42.143182 171.193973 \r\nL 42.143182 101.8967 \r\nL 42.143182 171.002968 \r\nL 42.143182 149.079148 \r\nL 42.143182 171.767809 \r\nL 42.143182 173.909858 \r\nL 42.143182 165.826966 \r\nL 42.143182 175.953534 \r\nL 42.143182 165.300676 \r\nL 42.143182 160.044337 \r\nL 42.143182 167.272213 \r\nL 42.143182 51.841793 \r\nL 42.143182 173.002377 \r\nL 42.143182 166.149134 \r\nL 42.143182 172.389192 \r\nL 42.143182 62.703691 \r\nL 42.143182 112.848773 \r\nL 42.143182 128.186593 \r\nL 42.143182 109.995987 \r\nL 42.143182 35.995718 \r\nL 42.143182 174.95096 \r\nL 42.143182 163.99069 \r\nL 42.143182 142.194753 \r\nL 42.143182 169.709377 \r\nL 42.143182 150.696546 \r\nL 42.143182 152.973036 \r\nL 42.143182 151.640916 \r\nL 42.143182 172.049809 \r\nL 42.143182 112.783192 \r\nL 42.143182 165.925337 \r\nL 42.143182 173.684422 \r\nL 42.143182 161.587956 \r\nL 42.143182 122.030151 \r\nL 42.143182 170.67752 \r\nL 42.143182 153.864121 \r\nL 42.143182 159.861529 \r\nL 42.143182 176.444574 \r\nL 42.143182 170.450445 \r\nL 42.143182 122.095733 \r\nL 42.143182 172.580197 \r\nL 42.143182 156.196355 \r\nL 42.143182 174.49763 \r\nL 42.143182 157.149743 \r\nL 42.143182 155.680723 \r\nL 42.143182 166.094209 \r\nL 42.143182 165.88025 \r\nL 42.143182 166.574592 \r\nL 42.143182 171.776007 \r\nL 42.143182 141.686499 \r\nL 42.143182 140.510954 \r\nL 42.143182 145.660724 \r\nL 42.143182 175.550209 \r\nL 42.143182 43.570355 \r\nL 42.143182 95.797642 \r\nL 42.143182 62.588924 \r\nL 42.143182 158.836002 \r\nL 42.143182 150.007942 \r\nL 42.143182 134.097106 \r\nL 42.143182 172.926138 \r\nL 42.143182 51.259759 \r\nL 42.143182 134.916872 \r\nL 42.143182 157.882614 \r\nL 42.143182 168.771565 \r\nL 42.143182 158.77288 \r\nL 42.143182 176.799532 \r\nL 42.143182 164.330893 \r\nL 42.143182 156.209472 \r\nL 42.143182 176.720835 \r\nL 42.143182 133.785595 \r\nL 42.143182 176.137162 \r\nL 42.143182 171.042316 \r\nL 42.143182 175.47561 \r\nL 42.143182 165.906483 \r\nL 42.143182 137.927872 \r\nL 42.143182 164.593218 \r\nL 42.143182 148.187242 \r\nL 42.143182 142.752194 \r\nL 42.143182 168.805995 \r\nL 42.143182 172.753988 \r\nL 42.143182 176.533108 \r\nL 42.143182 171.218566 \r\nL 42.143182 155.406101 \r\nL 42.143182 169.882348 \r\nL 42.143182 174.516484 \r\nL 42.143182 150.021879 \r\nL 42.143182 108.208898 \r\nL 42.143182 173.438492 \r\n\" style=\"fill:none;stroke:#ff0000;stroke-linecap:square;stroke-width:1.5;\"/>\r\n   </g>\r\n   <g id=\"line2d_13\">\r\n    <path clip-path=\"url(#pefb27c09a5)\" d=\"M 115.497359 167.919828 \r\nL 107.137156 172.694145 \r\nL 150.07076 148.175766 \r\nL 128.317581 160.598498 \r\nL 111.904367 169.971702 \r\nL 148.122821 149.288188 \r\nL 135.110246 156.719366 \r\nL 150.924867 147.688005 \r\nL 120.896178 164.836688 \r\nL 100.345927 176.572457 \r\nL 109.764074 171.193973 \r\nL 231.109031 101.8967 \r\nL 110.09854 171.002968 \r\nL 148.488867 149.079148 \r\nL 108.759242 171.767809 \r\nL 105.008348 173.909858 \r\nL 119.162125 165.826966 \r\nL 101.42971 175.953534 \r\nL 120.0837 165.300676 \r\nL 129.287962 160.044337 \r\nL 116.631384 167.272213 \r\nL 318.759098 51.841793 \r\nL 106.597418 173.002377 \r\nL 118.597984 166.149134 \r\nL 107.671153 172.389192 \r\nL 299.739062 62.703691 \r\nL 211.931093 112.848773 \r\nL 185.073368 128.186593 \r\nL 216.926544 109.995987 \r\nL 346.506818 35.995718 \r\nL 103.185295 174.95096 \r\nL 122.377588 163.99069 \r\nL 160.543981 142.194753 \r\nL 112.363718 169.709377 \r\nL 145.656676 150.696546 \r\nL 141.670364 152.973036 \r\nL 144.00301 151.640916 \r\nL 108.265439 172.049809 \r\nL 212.045931 112.783192 \r\nL 118.989868 165.925337 \r\nL 105.403103 173.684422 \r\nL 126.584963 161.587956 \r\nL 195.85378 122.030151 \r\nL 110.668423 170.67752 \r\nL 140.110003 153.864121 \r\nL 129.608072 159.861529 \r\nL 100.569861 176.444574 \r\nL 111.06605 170.450445 \r\nL 195.738942 122.095733 \r\nL 107.336687 172.580197 \r\nL 136.026078 156.196355 \r\nL 103.979112 174.49763 \r\nL 134.356622 157.149743 \r\nL 136.928992 155.680723 \r\nL 118.69416 166.094209 \r\nL 119.068819 165.88025 \r\nL 117.852972 166.574592 \r\nL 108.744887 171.776007 \r\nL 161.433975 141.686499 \r\nL 163.492445 140.510954 \r\nL 154.474795 145.660724 \r\nL 102.135963 175.550209 \r\nL 333.243035 43.570355 \r\nL 241.788961 95.797642 \r\nL 299.940029 62.588924 \r\nL 131.403851 158.836002 \r\nL 146.862475 150.007942 \r\nL 174.723597 134.097106 \r\nL 106.730917 172.926138 \r\nL 319.778285 51.259759 \r\nL 173.288123 134.916872 \r\nL 133.073307 157.882614 \r\nL 114.005901 168.771565 \r\nL 131.514382 158.77288 \r\nL 99.9483 176.799532 \r\nL 121.781866 164.330893 \r\nL 136.003111 156.209472 \r\nL 100.086106 176.720835 \r\nL 175.269077 133.785595 \r\nL 101.108164 176.137162 \r\nL 110.029637 171.042316 \r\nL 102.266591 175.47561 \r\nL 119.022884 165.906483 \r\nL 168.015625 137.927872 \r\nL 121.322514 164.593218 \r\nL 150.050663 148.187242 \r\nL 159.567858 142.752194 \r\nL 113.945611 168.805995 \r\nL 107.032366 172.753988 \r\nL 100.414829 176.533108 \r\nL 109.72101 171.218566 \r\nL 137.409876 155.406101 \r\nL 112.060833 169.882348 \r\nL 103.946097 174.516484 \r\nL 146.838071 150.021879 \r\nL 220.055879 108.208898 \r\nL 105.833745 173.438492 \r\n\" style=\"fill:none;stroke:#ff0000;stroke-linecap:square;stroke-width:1.5;\"/>\r\n   </g>\r\n   <g id=\"patch_3\">\r\n    <path d=\"M 26.925 224.840685 \r\nL 26.925 7.400685 \r\n\" style=\"fill:none;stroke:#000000;stroke-linecap:square;stroke-linejoin:miter;stroke-width:0.8;\"/>\r\n   </g>\r\n   <g id=\"patch_4\">\r\n    <path d=\"M 361.725 224.840685 \r\nL 361.725 7.400685 \r\n\" style=\"fill:none;stroke:#000000;stroke-linecap:square;stroke-linejoin:miter;stroke-width:0.8;\"/>\r\n   </g>\r\n   <g id=\"patch_5\">\r\n    <path d=\"M 26.925 224.840685 \r\nL 361.725 224.840685 \r\n\" style=\"fill:none;stroke:#000000;stroke-linecap:square;stroke-linejoin:miter;stroke-width:0.8;\"/>\r\n   </g>\r\n   <g id=\"patch_6\">\r\n    <path d=\"M 26.925 7.400685 \r\nL 361.725 7.400685 \r\n\" style=\"fill:none;stroke:#000000;stroke-linecap:square;stroke-linejoin:miter;stroke-width:0.8;\"/>\r\n   </g>\r\n  </g>\r\n </g>\r\n <defs>\r\n  <clipPath id=\"pefb27c09a5\">\r\n   <rect height=\"217.44\" width=\"334.8\" x=\"26.925\" y=\"7.400685\"/>\r\n  </clipPath>\r\n </defs>\r\n</svg>\r\n",
      "image/png": "[encoded data removed]"
     },
     "metadata": {
      "needs_background": "light"
     }
    }
   ],
   "source": [
    "plt.scatter(data.values[:, 0], data.values[:, 1], marker='.')\n",
    "plt.plot(X, X @ theta, color=\"red\")"
   ]
  },
  {
   "cell_type": "code",
   "execution_count": null,
   "metadata": {},
   "outputs": [],
   "source": []
  }
 ]
}